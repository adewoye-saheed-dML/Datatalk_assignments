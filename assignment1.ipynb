{
 "cells": [
  {
   "cell_type": "markdown",
   "id": "3d4d5d9c-813b-484c-b167-a30bd2720c80",
   "metadata": {},
   "source": [
    "# Datatalk Assignment: 1"
   ]
  },
  {
   "cell_type": "markdown",
   "id": "e06473fe-1c16-4ceb-9c21-4416cb39782f",
   "metadata": {},
   "source": [
    "### Q1. Pandas version"
   ]
  },
  {
   "cell_type": "code",
   "execution_count": 1,
   "id": "4cc2853a-f7f5-4c3f-9be7-e43c3f6ec991",
   "metadata": {},
   "outputs": [
    {
     "data": {
      "text/plain": [
       "'2.0.3'"
      ]
     },
     "execution_count": 1,
     "metadata": {},
     "output_type": "execute_result"
    }
   ],
   "source": [
    "import numpy as np\n",
    "import pandas as pd\n",
    "\n",
    "pd.__version__"
   ]
  },
  {
   "cell_type": "markdown",
   "id": "2bc289f3-2798-4f86-b706-d6c2ce92a844",
   "metadata": {},
   "source": [
    "### Q2. Records count"
   ]
  },
  {
   "cell_type": "code",
   "execution_count": 2,
   "id": "88231a04-1abc-4c4e-b2e7-64cb732e5431",
   "metadata": {},
   "outputs": [
    {
     "data": {
      "text/plain": [
       "(2160, 12)"
      ]
     },
     "execution_count": 2,
     "metadata": {},
     "output_type": "execute_result"
    }
   ],
   "source": [
    "# read the dataset\n",
    "df = pd.read_csv('C:/Users/WOYES/Desktop/laptops.csv')\n",
    "\n",
    "# number of records in the dataset\n",
    "df.shape"
   ]
  },
  {
   "cell_type": "markdown",
   "id": "a3519b5b-d918-421c-8494-78d3b3f06df9",
   "metadata": {},
   "source": [
    "### Q3. Laptop brands"
   ]
  },
  {
   "cell_type": "code",
   "execution_count": 3,
   "id": "cac0117b-1183-4cf4-af7e-34b12f603429",
   "metadata": {},
   "outputs": [
    {
     "data": {
      "text/plain": [
       "27"
      ]
     },
     "execution_count": 3,
     "metadata": {},
     "output_type": "execute_result"
    }
   ],
   "source": [
    "# numbers of laptop brands in the dataset\n",
    "df['Brand'].nunique()"
   ]
  },
  {
   "cell_type": "markdown",
   "id": "84e1e22b-fb0c-4514-ace5-27ace8ebe297",
   "metadata": {},
   "source": [
    "### Q4. Missing values"
   ]
  },
  {
   "cell_type": "code",
   "execution_count": 4,
   "id": "9aa46b16-15e1-46dd-9a63-d1d38ca92fb8",
   "metadata": {},
   "outputs": [
    {
     "data": {
      "text/plain": [
       "Laptop             0\n",
       "Status             0\n",
       "Brand              0\n",
       "Model              0\n",
       "CPU                0\n",
       "RAM                0\n",
       "Storage            0\n",
       "Storage type      42\n",
       "GPU             1371\n",
       "Screen             4\n",
       "Touch              0\n",
       "Final Price        0\n",
       "dtype: int64"
      ]
     },
     "execution_count": 4,
     "metadata": {},
     "output_type": "execute_result"
    }
   ],
   "source": [
    "# columns with missing values\n",
    "df.isna().sum()"
   ]
  },
  {
   "cell_type": "markdown",
   "id": "dba79f1f-ec37-4cae-a529-6bdd75a3ee16",
   "metadata": {},
   "source": [
    "### Q5. Maximum final price"
   ]
  },
  {
   "cell_type": "code",
   "execution_count": 10,
   "id": "0e70925a-c491-4225-bff7-9fc20e5cce5b",
   "metadata": {},
   "outputs": [
    {
     "data": {
      "text/plain": [
       "3936.0"
      ]
     },
     "execution_count": 10,
     "metadata": {},
     "output_type": "execute_result"
    }
   ],
   "source": [
    "# the maximum final price of Dell notebooks in the dataset\n",
    "dell= df[(df['Brand']=='Dell')]\n",
    "dell['Final Price'].max()"
   ]
  },
  {
   "cell_type": "markdown",
   "id": "1369cbc1-ff80-4d19-b255-6788634e9b08",
   "metadata": {},
   "source": [
    "### Q6. Median value of Screen"
   ]
  },
  {
   "cell_type": "code",
   "execution_count": 11,
   "id": "414ded1a-ea1d-458e-ab32-26fd71a87881",
   "metadata": {},
   "outputs": [
    {
     "data": {
      "text/plain": [
       "count    2156.000000\n",
       "mean       15.168112\n",
       "std         1.203329\n",
       "min        10.100000\n",
       "25%        14.000000\n",
       "50%        15.600000\n",
       "75%        15.600000\n",
       "max        18.000000\n",
       "Name: Screen, dtype: float64"
      ]
     },
     "execution_count": 11,
     "metadata": {},
     "output_type": "execute_result"
    }
   ],
   "source": [
    "# Finding the median value of Screen column in the dataset\n",
    "df['Screen'].describe()"
   ]
  },
  {
   "cell_type": "code",
   "execution_count": 13,
   "id": "43a0c854-d19f-4563-b19c-330a540a44ea",
   "metadata": {},
   "outputs": [
    {
     "data": {
      "text/plain": [
       "0    15.6\n",
       "Name: Screen, dtype: float64"
      ]
     },
     "execution_count": 13,
     "metadata": {},
     "output_type": "execute_result"
    }
   ],
   "source": [
    "#  most frequent value of the same Screen column\n",
    "df['Screen'].mode()"
   ]
  },
  {
   "cell_type": "code",
   "execution_count": 16,
   "id": "b5be9394-1d0a-40a0-beec-7c11f3eddb29",
   "metadata": {},
   "outputs": [],
   "source": [
    "# Using fillna method to fill the missing values in Screen column with the most frequent value\n",
    "df['Screen'].fillna(df['Screen'].mode(), inplace=True)"
   ]
  },
  {
   "cell_type": "code",
   "execution_count": 18,
   "id": "7addcb25-4791-4b1e-ab27-7f7f1fe3407b",
   "metadata": {},
   "outputs": [
    {
     "data": {
      "text/plain": [
       "count    2156.000000\n",
       "mean       15.168112\n",
       "std         1.203329\n",
       "min        10.100000\n",
       "25%        14.000000\n",
       "50%        15.600000\n",
       "75%        15.600000\n",
       "max        18.000000\n",
       "Name: Screen, dtype: float64"
      ]
     },
     "execution_count": 18,
     "metadata": {},
     "output_type": "execute_result"
    }
   ],
   "source": [
    "# calculating the median value of Screen once again\n",
    "df['Screen'].describe()"
   ]
  },
  {
   "cell_type": "markdown",
   "id": "79adabb1-202b-4afe-9563-c645f381a43b",
   "metadata": {},
   "source": [
    "### Q7. Sum of weights"
   ]
  },
  {
   "cell_type": "code",
   "execution_count": 22,
   "id": "18f7a468-c39d-40ed-9804-c785ae592277",
   "metadata": {},
   "outputs": [],
   "source": [
    "# Selecting all the \"Innjoo\" laptops from the dataset.\n",
    "df1=df[df['Brand']=='Innjoo']\n",
    "\n",
    "# Selecting only columns RAM, Storage, Screen\n",
    "new_df= df1[['RAM', 'Storage', 'Screen']]"
   ]
  },
  {
   "cell_type": "code",
   "execution_count": 23,
   "id": "699c27e6-4ff9-42e5-814b-be4d5ca8f2e7",
   "metadata": {},
   "outputs": [
    {
     "data": {
      "text/plain": [
       "array([[  8. , 256. ,  15.6],\n",
       "       [  8. , 512. ,  15.6],\n",
       "       [  4. ,  64. ,  14.1],\n",
       "       [  6. ,  64. ,  14.1],\n",
       "       [  6. , 128. ,  14.1],\n",
       "       [  6. , 128. ,  14.1]])"
      ]
     },
     "execution_count": 23,
     "metadata": {},
     "output_type": "execute_result"
    }
   ],
   "source": [
    "# Getting the underlying NumPy array\n",
    "X= np.array(new_df)\n",
    "X"
   ]
  },
  {
   "cell_type": "code",
   "execution_count": 24,
   "id": "187f534a-9dbc-4d16-82ac-591f3a03cd49",
   "metadata": {},
   "outputs": [],
   "source": [
    "# Computing matrix-matrix multiplication between the transpose of X and X\n",
    "XTX = np.dot(X.T, X)"
   ]
  },
  {
   "cell_type": "code",
   "execution_count": 27,
   "id": "5e45de22-5736-4173-bcad-b9b196a23ee0",
   "metadata": {},
   "outputs": [
    {
     "data": {
      "text/plain": [
       "array([[ 2.78025381e-01, -1.51791334e-03, -1.00809855e-01],\n",
       "       [-1.51791334e-03,  1.58286725e-05,  4.48052175e-04],\n",
       "       [-1.00809855e-01,  4.48052175e-04,  3.87214888e-02]])"
      ]
     },
     "execution_count": 27,
     "metadata": {},
     "output_type": "execute_result"
    }
   ],
   "source": [
    "# Computing the inverse of XTX\n",
    "inverse=np.linalg.inv(XTX)\n",
    "inverse"
   ]
  },
  {
   "cell_type": "code",
   "execution_count": 28,
   "id": "ec7e57d6-6a4e-49f7-b08c-93c067f150b1",
   "metadata": {},
   "outputs": [],
   "source": [
    "# Creating an array y\n",
    "y=np.array([1100, 1300, 800, 900, 1000,1100])"
   ]
  },
  {
   "cell_type": "code",
   "execution_count": 32,
   "id": "6aaa64dd-41bd-48f1-a288-1466e91a625c",
   "metadata": {},
   "outputs": [
    {
     "data": {
      "text/plain": [
       "array([45.58076606,  0.42783519, 45.29127938])"
      ]
     },
     "execution_count": 32,
     "metadata": {},
     "output_type": "execute_result"
    }
   ],
   "source": [
    "# Multiplying the inverse of XTX with the transpose of X, and then multiply the result by y\n",
    "w = np.dot(np.dot(inverse, X.T), y)\n",
    "w"
   ]
  },
  {
   "cell_type": "code",
   "execution_count": 33,
   "id": "b04457cc-8716-460d-ab10-1471728fa822",
   "metadata": {},
   "outputs": [
    {
     "data": {
      "text/plain": [
       "91.29988062995805"
      ]
     },
     "execution_count": 33,
     "metadata": {},
     "output_type": "execute_result"
    }
   ],
   "source": [
    "# sum of all the elements of the result\n",
    "w.sum()"
   ]
  },
  {
   "cell_type": "code",
   "execution_count": null,
   "id": "e653e256-ae88-49f3-be1e-fd422d4c7a12",
   "metadata": {},
   "outputs": [],
   "source": []
  }
 ],
 "metadata": {
  "kernelspec": {
   "display_name": "Python 3 (ipykernel)",
   "language": "python",
   "name": "python3"
  },
  "language_info": {
   "codemirror_mode": {
    "name": "ipython",
    "version": 3
   },
   "file_extension": ".py",
   "mimetype": "text/x-python",
   "name": "python",
   "nbconvert_exporter": "python",
   "pygments_lexer": "ipython3",
   "version": "3.8.18"
  }
 },
 "nbformat": 4,
 "nbformat_minor": 5
}
