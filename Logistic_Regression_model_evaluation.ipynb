{
 "cells": [
  {
   "cell_type": "markdown",
   "id": "d36238a2-7e41-4540-87cf-7f2379c09e39",
   "metadata": {},
   "source": [
    "## Logistic_Regression_Model_Evaluation (Assignment_4) "
   ]
  },
  {
   "cell_type": "code",
   "execution_count": 1,
   "id": "b86888a4-79dd-4ac3-9cf9-86e0fdd8931b",
   "metadata": {},
   "outputs": [],
   "source": [
    "# import necessary libraries\n",
    "import numpy as np\n",
    "import pandas as pd\n",
    "import matplotlib.pyplot as plt\n",
    "import seaborn as sns\n",
    "from sklearn.model_selection import train_test_split\n",
    "import warnings\n",
    "warnings.filterwarnings('ignore')\n"
   ]
  },
  {
   "cell_type": "code",
   "execution_count": 2,
   "id": "4764ed82-7e1f-4a6f-9b4f-7f09b1600690",
   "metadata": {},
   "outputs": [
    {
     "data": {
      "text/html": [
       "<div>\n",
       "<style scoped>\n",
       "    .dataframe tbody tr th:only-of-type {\n",
       "        vertical-align: middle;\n",
       "    }\n",
       "\n",
       "    .dataframe tbody tr th {\n",
       "        vertical-align: top;\n",
       "    }\n",
       "\n",
       "    .dataframe thead th {\n",
       "        text-align: right;\n",
       "    }\n",
       "</style>\n",
       "<table border=\"1\" class=\"dataframe\">\n",
       "  <thead>\n",
       "    <tr style=\"text-align: right;\">\n",
       "      <th></th>\n",
       "      <th>age</th>\n",
       "      <th>job</th>\n",
       "      <th>marital</th>\n",
       "      <th>education</th>\n",
       "      <th>default</th>\n",
       "      <th>balance</th>\n",
       "      <th>housing</th>\n",
       "      <th>loan</th>\n",
       "      <th>contact</th>\n",
       "      <th>day</th>\n",
       "      <th>month</th>\n",
       "      <th>duration</th>\n",
       "      <th>campaign</th>\n",
       "      <th>pdays</th>\n",
       "      <th>previous</th>\n",
       "      <th>poutcome</th>\n",
       "      <th>y</th>\n",
       "    </tr>\n",
       "  </thead>\n",
       "  <tbody>\n",
       "    <tr>\n",
       "      <th>0</th>\n",
       "      <td>58</td>\n",
       "      <td>management</td>\n",
       "      <td>married</td>\n",
       "      <td>tertiary</td>\n",
       "      <td>no</td>\n",
       "      <td>2143</td>\n",
       "      <td>yes</td>\n",
       "      <td>no</td>\n",
       "      <td>unknown</td>\n",
       "      <td>5</td>\n",
       "      <td>may</td>\n",
       "      <td>261</td>\n",
       "      <td>1</td>\n",
       "      <td>-1</td>\n",
       "      <td>0</td>\n",
       "      <td>unknown</td>\n",
       "      <td>no</td>\n",
       "    </tr>\n",
       "    <tr>\n",
       "      <th>1</th>\n",
       "      <td>44</td>\n",
       "      <td>technician</td>\n",
       "      <td>single</td>\n",
       "      <td>secondary</td>\n",
       "      <td>no</td>\n",
       "      <td>29</td>\n",
       "      <td>yes</td>\n",
       "      <td>no</td>\n",
       "      <td>unknown</td>\n",
       "      <td>5</td>\n",
       "      <td>may</td>\n",
       "      <td>151</td>\n",
       "      <td>1</td>\n",
       "      <td>-1</td>\n",
       "      <td>0</td>\n",
       "      <td>unknown</td>\n",
       "      <td>no</td>\n",
       "    </tr>\n",
       "    <tr>\n",
       "      <th>2</th>\n",
       "      <td>33</td>\n",
       "      <td>entrepreneur</td>\n",
       "      <td>married</td>\n",
       "      <td>secondary</td>\n",
       "      <td>no</td>\n",
       "      <td>2</td>\n",
       "      <td>yes</td>\n",
       "      <td>yes</td>\n",
       "      <td>unknown</td>\n",
       "      <td>5</td>\n",
       "      <td>may</td>\n",
       "      <td>76</td>\n",
       "      <td>1</td>\n",
       "      <td>-1</td>\n",
       "      <td>0</td>\n",
       "      <td>unknown</td>\n",
       "      <td>no</td>\n",
       "    </tr>\n",
       "    <tr>\n",
       "      <th>3</th>\n",
       "      <td>47</td>\n",
       "      <td>blue-collar</td>\n",
       "      <td>married</td>\n",
       "      <td>unknown</td>\n",
       "      <td>no</td>\n",
       "      <td>1506</td>\n",
       "      <td>yes</td>\n",
       "      <td>no</td>\n",
       "      <td>unknown</td>\n",
       "      <td>5</td>\n",
       "      <td>may</td>\n",
       "      <td>92</td>\n",
       "      <td>1</td>\n",
       "      <td>-1</td>\n",
       "      <td>0</td>\n",
       "      <td>unknown</td>\n",
       "      <td>no</td>\n",
       "    </tr>\n",
       "    <tr>\n",
       "      <th>4</th>\n",
       "      <td>33</td>\n",
       "      <td>unknown</td>\n",
       "      <td>single</td>\n",
       "      <td>unknown</td>\n",
       "      <td>no</td>\n",
       "      <td>1</td>\n",
       "      <td>no</td>\n",
       "      <td>no</td>\n",
       "      <td>unknown</td>\n",
       "      <td>5</td>\n",
       "      <td>may</td>\n",
       "      <td>198</td>\n",
       "      <td>1</td>\n",
       "      <td>-1</td>\n",
       "      <td>0</td>\n",
       "      <td>unknown</td>\n",
       "      <td>no</td>\n",
       "    </tr>\n",
       "  </tbody>\n",
       "</table>\n",
       "</div>"
      ],
      "text/plain": [
       "   age           job  marital  education default  balance housing loan  \\\n",
       "0   58    management  married   tertiary      no     2143     yes   no   \n",
       "1   44    technician   single  secondary      no       29     yes   no   \n",
       "2   33  entrepreneur  married  secondary      no        2     yes  yes   \n",
       "3   47   blue-collar  married    unknown      no     1506     yes   no   \n",
       "4   33       unknown   single    unknown      no        1      no   no   \n",
       "\n",
       "   contact  day month  duration  campaign  pdays  previous poutcome   y  \n",
       "0  unknown    5   may       261         1     -1         0  unknown  no  \n",
       "1  unknown    5   may       151         1     -1         0  unknown  no  \n",
       "2  unknown    5   may        76         1     -1         0  unknown  no  \n",
       "3  unknown    5   may        92         1     -1         0  unknown  no  \n",
       "4  unknown    5   may       198         1     -1         0  unknown  no  "
      ]
     },
     "execution_count": 2,
     "metadata": {},
     "output_type": "execute_result"
    }
   ],
   "source": [
    "dff = pd.read_csv('C:/Users/WOYES/Desktop/bankfull.csv', delimiter = ';')\n",
    "dff.head()"
   ]
  },
  {
   "cell_type": "code",
   "execution_count": 3,
   "id": "ba1e0e48-d4a8-4236-b019-c85961e43175",
   "metadata": {},
   "outputs": [
    {
     "data": {
      "text/html": [
       "<div>\n",
       "<style scoped>\n",
       "    .dataframe tbody tr th:only-of-type {\n",
       "        vertical-align: middle;\n",
       "    }\n",
       "\n",
       "    .dataframe tbody tr th {\n",
       "        vertical-align: top;\n",
       "    }\n",
       "\n",
       "    .dataframe thead th {\n",
       "        text-align: right;\n",
       "    }\n",
       "</style>\n",
       "<table border=\"1\" class=\"dataframe\">\n",
       "  <thead>\n",
       "    <tr style=\"text-align: right;\">\n",
       "      <th></th>\n",
       "      <th>age</th>\n",
       "      <th>job</th>\n",
       "      <th>marital</th>\n",
       "      <th>education</th>\n",
       "      <th>balance</th>\n",
       "      <th>housing</th>\n",
       "      <th>contact</th>\n",
       "      <th>day</th>\n",
       "      <th>month</th>\n",
       "      <th>duration</th>\n",
       "      <th>campaign</th>\n",
       "      <th>pdays</th>\n",
       "      <th>previous</th>\n",
       "      <th>poutcome</th>\n",
       "      <th>y</th>\n",
       "    </tr>\n",
       "  </thead>\n",
       "  <tbody>\n",
       "    <tr>\n",
       "      <th>0</th>\n",
       "      <td>58</td>\n",
       "      <td>management</td>\n",
       "      <td>married</td>\n",
       "      <td>tertiary</td>\n",
       "      <td>2143</td>\n",
       "      <td>yes</td>\n",
       "      <td>unknown</td>\n",
       "      <td>5</td>\n",
       "      <td>may</td>\n",
       "      <td>261</td>\n",
       "      <td>1</td>\n",
       "      <td>-1</td>\n",
       "      <td>0</td>\n",
       "      <td>unknown</td>\n",
       "      <td>no</td>\n",
       "    </tr>\n",
       "    <tr>\n",
       "      <th>1</th>\n",
       "      <td>44</td>\n",
       "      <td>technician</td>\n",
       "      <td>single</td>\n",
       "      <td>secondary</td>\n",
       "      <td>29</td>\n",
       "      <td>yes</td>\n",
       "      <td>unknown</td>\n",
       "      <td>5</td>\n",
       "      <td>may</td>\n",
       "      <td>151</td>\n",
       "      <td>1</td>\n",
       "      <td>-1</td>\n",
       "      <td>0</td>\n",
       "      <td>unknown</td>\n",
       "      <td>no</td>\n",
       "    </tr>\n",
       "    <tr>\n",
       "      <th>2</th>\n",
       "      <td>33</td>\n",
       "      <td>entrepreneur</td>\n",
       "      <td>married</td>\n",
       "      <td>secondary</td>\n",
       "      <td>2</td>\n",
       "      <td>yes</td>\n",
       "      <td>unknown</td>\n",
       "      <td>5</td>\n",
       "      <td>may</td>\n",
       "      <td>76</td>\n",
       "      <td>1</td>\n",
       "      <td>-1</td>\n",
       "      <td>0</td>\n",
       "      <td>unknown</td>\n",
       "      <td>no</td>\n",
       "    </tr>\n",
       "    <tr>\n",
       "      <th>3</th>\n",
       "      <td>47</td>\n",
       "      <td>blue-collar</td>\n",
       "      <td>married</td>\n",
       "      <td>unknown</td>\n",
       "      <td>1506</td>\n",
       "      <td>yes</td>\n",
       "      <td>unknown</td>\n",
       "      <td>5</td>\n",
       "      <td>may</td>\n",
       "      <td>92</td>\n",
       "      <td>1</td>\n",
       "      <td>-1</td>\n",
       "      <td>0</td>\n",
       "      <td>unknown</td>\n",
       "      <td>no</td>\n",
       "    </tr>\n",
       "    <tr>\n",
       "      <th>4</th>\n",
       "      <td>33</td>\n",
       "      <td>unknown</td>\n",
       "      <td>single</td>\n",
       "      <td>unknown</td>\n",
       "      <td>1</td>\n",
       "      <td>no</td>\n",
       "      <td>unknown</td>\n",
       "      <td>5</td>\n",
       "      <td>may</td>\n",
       "      <td>198</td>\n",
       "      <td>1</td>\n",
       "      <td>-1</td>\n",
       "      <td>0</td>\n",
       "      <td>unknown</td>\n",
       "      <td>no</td>\n",
       "    </tr>\n",
       "  </tbody>\n",
       "</table>\n",
       "</div>"
      ],
      "text/plain": [
       "   age           job  marital  education  balance housing  contact  day month  \\\n",
       "0   58    management  married   tertiary     2143     yes  unknown    5   may   \n",
       "1   44    technician   single  secondary       29     yes  unknown    5   may   \n",
       "2   33  entrepreneur  married  secondary        2     yes  unknown    5   may   \n",
       "3   47   blue-collar  married    unknown     1506     yes  unknown    5   may   \n",
       "4   33       unknown   single    unknown        1      no  unknown    5   may   \n",
       "\n",
       "   duration  campaign  pdays  previous poutcome   y  \n",
       "0       261         1     -1         0  unknown  no  \n",
       "1       151         1     -1         0  unknown  no  \n",
       "2        76         1     -1         0  unknown  no  \n",
       "3        92         1     -1         0  unknown  no  \n",
       "4       198         1     -1         0  unknown  no  "
      ]
     },
     "execution_count": 3,
     "metadata": {},
     "output_type": "execute_result"
    }
   ],
   "source": [
    "# select only the needed features\n",
    "df = dff[[\"age\",\"job\",\"marital\",\"education\",'balance','housing','contact','day','month','duration','campaign',\n",
    "'pdays','previous','poutcome','y']]\n",
    "\n",
    "df.head()"
   ]
  },
  {
   "cell_type": "code",
   "execution_count": 4,
   "id": "0c314b72-9c5c-4fcf-9d2b-94688472d59f",
   "metadata": {},
   "outputs": [
    {
     "name": "stdout",
     "output_type": "stream",
     "text": [
      "<class 'pandas.core.frame.DataFrame'>\n",
      "RangeIndex: 45211 entries, 0 to 45210\n",
      "Data columns (total 15 columns):\n",
      " #   Column     Non-Null Count  Dtype \n",
      "---  ------     --------------  ----- \n",
      " 0   age        45211 non-null  int64 \n",
      " 1   job        45211 non-null  object\n",
      " 2   marital    45211 non-null  object\n",
      " 3   education  45211 non-null  object\n",
      " 4   balance    45211 non-null  int64 \n",
      " 5   housing    45211 non-null  object\n",
      " 6   contact    45211 non-null  object\n",
      " 7   day        45211 non-null  int64 \n",
      " 8   month      45211 non-null  object\n",
      " 9   duration   45211 non-null  int64 \n",
      " 10  campaign   45211 non-null  int64 \n",
      " 11  pdays      45211 non-null  int64 \n",
      " 12  previous   45211 non-null  int64 \n",
      " 13  poutcome   45211 non-null  object\n",
      " 14  y          45211 non-null  object\n",
      "dtypes: int64(7), object(8)\n",
      "memory usage: 5.2+ MB\n"
     ]
    }
   ],
   "source": [
    "df.info()"
   ]
  },
  {
   "cell_type": "code",
   "execution_count": 5,
   "id": "b192cd34-9e8e-4f44-9fdc-cb575186ea05",
   "metadata": {
    "scrolled": true
   },
   "outputs": [
    {
     "data": {
      "text/plain": [
       "age          0\n",
       "job          0\n",
       "marital      0\n",
       "education    0\n",
       "balance      0\n",
       "housing      0\n",
       "contact      0\n",
       "day          0\n",
       "month        0\n",
       "duration     0\n",
       "campaign     0\n",
       "pdays        0\n",
       "previous     0\n",
       "poutcome     0\n",
       "y            0\n",
       "dtype: int64"
      ]
     },
     "execution_count": 5,
     "metadata": {},
     "output_type": "execute_result"
    }
   ],
   "source": [
    "# check missing value\n",
    "df.isnull().sum()"
   ]
  },
  {
   "cell_type": "code",
   "execution_count": 6,
   "id": "7073d25d-f86a-424c-a850-a3f3514b03e7",
   "metadata": {},
   "outputs": [
    {
     "data": {
      "text/plain": [
       "education\n",
       "secondary    23202\n",
       "tertiary     13301\n",
       "primary       6851\n",
       "unknown       1857\n",
       "Name: count, dtype: int64"
      ]
     },
     "execution_count": 6,
     "metadata": {},
     "output_type": "execute_result"
    }
   ],
   "source": [
    "# check most frequent observation for education column\n",
    "df['education'].value_counts()"
   ]
  },
  {
   "cell_type": "code",
   "execution_count": 7,
   "id": "9fef16a2-3001-4d1d-8de6-1f3b49dfe5f8",
   "metadata": {},
   "outputs": [
    {
     "data": {
      "image/png": "[encoded data removed]",
      "text/plain": [
       "<Figure size 600x600 with 2 Axes>"
      ]
     },
     "metadata": {},
     "output_type": "display_data"
    }
   ],
   "source": [
    "# find the correlation in the numerical features\n",
    "\n",
    "#categorical features\n",
    "categorical = ['job', 'marital', 'education', 'housing', 'contact', 'month',\n",
    "       'poutcome']\n",
    "\n",
    "#numerical features\n",
    "numerical = ['age', 'balance', 'day', 'duration', 'campaign', 'pdays', 'previous'] \n",
    "\n",
    "\n",
    "corr_matrix = df[numerical].corr()\n",
    "\n",
    "# visualize the correlation\n",
    "mask = np.triu(np.ones_like(corr_matrix, dtype=bool))\n",
    "plt.figure(figsize=(6, 6))\n",
    "sns.heatmap(corr_matrix, mask = mask, annot=True, cmap='coolwarm', center=0)\n",
    "plt.title('Correlation Matrix of Numerical Features')\n",
    "plt.show()"
   ]
  },
  {
   "cell_type": "code",
   "execution_count": 8,
   "id": "2259465f-c8dc-4f33-924b-6d88303ced8d",
   "metadata": {},
   "outputs": [
    {
     "data": {
      "text/plain": [
       "0    0\n",
       "1    0\n",
       "2    0\n",
       "3    0\n",
       "4    0\n",
       "Name: y, dtype: int64"
      ]
     },
     "execution_count": 8,
     "metadata": {},
     "output_type": "execute_result"
    }
   ],
   "source": [
    "# encode the target variable\n",
    "\n",
    "df['y']=df['y'].replace({'yes':1,'no':0})\n",
    "df['y'].head()"
   ]
  },
  {
   "cell_type": "code",
   "execution_count": 9,
   "id": "a9031d26-d410-4c68-8298-b8565041ceec",
   "metadata": {},
   "outputs": [
    {
     "data": {
      "text/plain": [
       "(36168, 27126, 9042, 9043)"
      ]
     },
     "execution_count": 9,
     "metadata": {},
     "output_type": "execute_result"
    }
   ],
   "source": [
    "# split the dataset to train/val/test\n",
    "df_full_train, df_test = train_test_split(df, test_size = 0.2, random_state=42)\n",
    "df_train, df_val = train_test_split(df_full_train, test_size = 0.25, random_state=42)\n",
    "\n",
    "# print\n",
    "len(df_full_train),len(df_train), len(df_val), len(df_test)"
   ]
  },
  {
   "cell_type": "code",
   "execution_count": 10,
   "id": "222d5caa-6c0d-4ea2-947d-f7566b08d76a",
   "metadata": {},
   "outputs": [],
   "source": [
    "# sort the index\n",
    "df_train = df_train.reset_index(drop=True)\n",
    "df_val = df_val.reset_index(drop=True)\n",
    "df_test = df_test.reset_index(drop=True)"
   ]
  },
  {
   "cell_type": "code",
   "execution_count": 11,
   "id": "433a6869-62c0-467d-8d6e-620a424aa62f",
   "metadata": {},
   "outputs": [],
   "source": [
    "# split out the target feature\n",
    "y_train = df_train['y'].values\n",
    "y_val = df_val['y'].values\n",
    "y_test = df_test['y'].values"
   ]
  },
  {
   "cell_type": "code",
   "execution_count": 12,
   "id": "4b78c4b4-9a39-4cf9-8782-3e5ec4e56ea6",
   "metadata": {},
   "outputs": [],
   "source": [
    "# delete the target feature from the splitted dataset\n",
    "del df_train['y']\n",
    "del df_val['y']\n",
    "del df_test['y']"
   ]
  },
  {
   "cell_type": "code",
   "execution_count": 13,
   "id": "c27e1a9f-afb3-4d08-9c5b-50040ab9edb5",
   "metadata": {},
   "outputs": [],
   "source": [
    "#  calculate the mutual score between the categorical features\n",
    "from sklearn.metrics import mutual_info_score\n",
    "\n",
    "def mutual_info_sub_score(series):\n",
    "    return mutual_info_score(series, df_full_train['y'])"
   ]
  },
  {
   "cell_type": "code",
   "execution_count": 14,
   "id": "65c22307-e8e0-444e-8fc8-fe8c8c7fde1d",
   "metadata": {},
   "outputs": [
    {
     "data": {
      "text/plain": [
       "poutcome     0.029257\n",
       "month        0.024774\n",
       "contact      0.014164\n",
       "housing      0.009800\n",
       "job          0.007765\n",
       "education    0.002458\n",
       "marital      0.002019\n",
       "dtype: float64"
      ]
     },
     "execution_count": 14,
     "metadata": {},
     "output_type": "execute_result"
    }
   ],
   "source": [
    "df_full_train[categorical].apply(mutual_info_sub_score).sort_values(ascending =False)"
   ]
  },
  {
   "cell_type": "code",
   "execution_count": 15,
   "id": "5b902f17-b157-4d46-b3f0-8fa7c32e25ae",
   "metadata": {},
   "outputs": [],
   "source": [
    "# using one hot encoding on the categorical dataset\n",
    "from sklearn.feature_extraction import DictVectorizer\n",
    "\n",
    "dv = DictVectorizer(sparse = False)\n",
    "train_dict = df_train[numerical  + categorical].to_dict(orient = 'records')\n",
    "X_train = dv.fit_transform(train_dict)\n",
    "\n",
    "val_dict = df_val[numerical + categorical].to_dict(orient = 'records')\n",
    "X_val = dv.fit_transform(val_dict)\n"
   ]
  },
  {
   "cell_type": "code",
   "execution_count": 16,
   "id": "b0c9a204-b29f-40d0-8920-d9bf87d9652b",
   "metadata": {},
   "outputs": [
    {
     "data": {
      "text/plain": [
       "array([ 38., -10.,   2.,   0.,   0.,   1.,  17.,  61.,   0.,   1.,   0.,\n",
       "         0.,   0.,   1.,   0.,   0.,   0.,   0.,   0.,   0.,   0.,   1.,\n",
       "         0.,   0.,   0.,   0.,   1.,   0.,   0.,   0.,   0.,   0.,   0.,\n",
       "         0.,   0.,   1.,   0.,   0.,   0.,   0.,   0.,  -1.,   0.,   0.,\n",
       "         0.,   1.,   0.])"
      ]
     },
     "execution_count": 16,
     "metadata": {},
     "output_type": "execute_result"
    }
   ],
   "source": [
    "X_val[0]"
   ]
  },
  {
   "cell_type": "code",
   "execution_count": 17,
   "id": "20ae90b7-0efb-4137-b342-4268403fc6bb",
   "metadata": {},
   "outputs": [
    {
     "data": {
      "text/html": [
       "<style>#sk-container-id-1 {color: black;}#sk-container-id-1 pre{padding: 0;}#sk-container-id-1 div.sk-toggleable {background-color: white;}#sk-container-id-1 label.sk-toggleable__label {cursor: pointer;display: block;width: 100%;margin-bottom: 0;padding: 0.3em;box-sizing: border-box;text-align: center;}#sk-container-id-1 label.sk-toggleable__label-arrow:before {content: \"▸\";float: left;margin-right: 0.25em;color: #696969;}#sk-container-id-1 label.sk-toggleable__label-arrow:hover:before {color: black;}#sk-container-id-1 div.sk-estimator:hover label.sk-toggleable__label-arrow:before {color: black;}#sk-container-id-1 div.sk-toggleable__content {max-height: 0;max-width: 0;overflow: hidden;text-align: left;background-color: #f0f8ff;}#sk-container-id-1 div.sk-toggleable__content pre {margin: 0.2em;color: black;border-radius: 0.25em;background-color: #f0f8ff;}#sk-container-id-1 input.sk-toggleable__control:checked~div.sk-toggleable__content {max-height: 200px;max-width: 100%;overflow: auto;}#sk-container-id-1 input.sk-toggleable__control:checked~label.sk-toggleable__label-arrow:before {content: \"▾\";}#sk-container-id-1 div.sk-estimator input.sk-toggleable__control:checked~label.sk-toggleable__label {background-color: #d4ebff;}#sk-container-id-1 div.sk-label input.sk-toggleable__control:checked~label.sk-toggleable__label {background-color: #d4ebff;}#sk-container-id-1 input.sk-hidden--visually {border: 0;clip: rect(1px 1px 1px 1px);clip: rect(1px, 1px, 1px, 1px);height: 1px;margin: -1px;overflow: hidden;padding: 0;position: absolute;width: 1px;}#sk-container-id-1 div.sk-estimator {font-family: monospace;background-color: #f0f8ff;border: 1px dotted black;border-radius: 0.25em;box-sizing: border-box;margin-bottom: 0.5em;}#sk-container-id-1 div.sk-estimator:hover {background-color: #d4ebff;}#sk-container-id-1 div.sk-parallel-item::after {content: \"\";width: 100%;border-bottom: 1px solid gray;flex-grow: 1;}#sk-container-id-1 div.sk-label:hover label.sk-toggleable__label {background-color: #d4ebff;}#sk-container-id-1 div.sk-serial::before {content: \"\";position: absolute;border-left: 1px solid gray;box-sizing: border-box;top: 0;bottom: 0;left: 50%;z-index: 0;}#sk-container-id-1 div.sk-serial {display: flex;flex-direction: column;align-items: center;background-color: white;padding-right: 0.2em;padding-left: 0.2em;position: relative;}#sk-container-id-1 div.sk-item {position: relative;z-index: 1;}#sk-container-id-1 div.sk-parallel {display: flex;align-items: stretch;justify-content: center;background-color: white;position: relative;}#sk-container-id-1 div.sk-item::before, #sk-container-id-1 div.sk-parallel-item::before {content: \"\";position: absolute;border-left: 1px solid gray;box-sizing: border-box;top: 0;bottom: 0;left: 50%;z-index: -1;}#sk-container-id-1 div.sk-parallel-item {display: flex;flex-direction: column;z-index: 1;position: relative;background-color: white;}#sk-container-id-1 div.sk-parallel-item:first-child::after {align-self: flex-end;width: 50%;}#sk-container-id-1 div.sk-parallel-item:last-child::after {align-self: flex-start;width: 50%;}#sk-container-id-1 div.sk-parallel-item:only-child::after {width: 0;}#sk-container-id-1 div.sk-dashed-wrapped {border: 1px dashed gray;margin: 0 0.4em 0.5em 0.4em;box-sizing: border-box;padding-bottom: 0.4em;background-color: white;}#sk-container-id-1 div.sk-label label {font-family: monospace;font-weight: bold;display: inline-block;line-height: 1.2em;}#sk-container-id-1 div.sk-label-container {text-align: center;}#sk-container-id-1 div.sk-container {/* jupyter's `normalize.less` sets `[hidden] { display: none; }` but bootstrap.min.css set `[hidden] { display: none !important; }` so we also need the `!important` here to be able to override the default hidden behavior on the sphinx rendered scikit-learn.org. See: https://github.com/scikit-learn/scikit-learn/issues/21755 */display: inline-block !important;position: relative;}#sk-container-id-1 div.sk-text-repr-fallback {display: none;}</style><div id=\"sk-container-id-1\" class=\"sk-top-container\"><div class=\"sk-text-repr-fallback\"><pre>LogisticRegression(max_iter=1000, random_state=42, solver=&#x27;liblinear&#x27;)</pre><b>In a Jupyter environment, please rerun this cell to show the HTML representation or trust the notebook. <br />On GitHub, the HTML representation is unable to render, please try loading this page with nbviewer.org.</b></div><div class=\"sk-container\" hidden><div class=\"sk-item\"><div class=\"sk-estimator sk-toggleable\"><input class=\"sk-toggleable__control sk-hidden--visually\" id=\"sk-estimator-id-1\" type=\"checkbox\" checked><label for=\"sk-estimator-id-1\" class=\"sk-toggleable__label sk-toggleable__label-arrow\">LogisticRegression</label><div class=\"sk-toggleable__content\"><pre>LogisticRegression(max_iter=1000, random_state=42, solver=&#x27;liblinear&#x27;)</pre></div></div></div></div></div>"
      ],
      "text/plain": [
       "LogisticRegression(max_iter=1000, random_state=42, solver='liblinear')"
      ]
     },
     "execution_count": 17,
     "metadata": {},
     "output_type": "execute_result"
    }
   ],
   "source": [
    "#  fitting the model on the training dataset\n",
    "\n",
    "from sklearn.linear_model import LogisticRegression\n",
    "\n",
    "model = LogisticRegression(solver='liblinear', C=1.0, max_iter=1000, random_state=42)\n",
    "model.fit(X_train, y_train)"
   ]
  },
  {
   "cell_type": "code",
   "execution_count": 18,
   "id": "4b80a57b-8ae5-4d38-8a18-85a946f3f6d1",
   "metadata": {},
   "outputs": [],
   "source": [
    "y_pred =model.predict_proba(X_val)[:,1]"
   ]
  },
  {
   "cell_type": "code",
   "execution_count": 19,
   "id": "873a876a-7328-4f1e-abb9-63796ec3e3a4",
   "metadata": {},
   "outputs": [],
   "source": [
    "churn = y_pred >=0.5"
   ]
  },
  {
   "cell_type": "code",
   "execution_count": 20,
   "id": "1e2dcfce-0384-40fc-8c64-738b9e9680a6",
   "metadata": {},
   "outputs": [
    {
     "data": {
      "text/plain": [
       "0.9013492590134926"
      ]
     },
     "execution_count": 20,
     "metadata": {},
     "output_type": "execute_result"
    }
   ],
   "source": [
    "#  calculating the accuracy score\n",
    "\n",
    "(y_val==churn).mean()"
   ]
  },
  {
   "cell_type": "code",
   "execution_count": 21,
   "id": "a5111323-147d-4985-b668-7ede5a31056a",
   "metadata": {},
   "outputs": [
    {
     "name": "stdout",
     "output_type": "stream",
     "text": [
      "job\n"
     ]
    },
    {
     "data": {
      "text/html": [
       "<div>\n",
       "<style scoped>\n",
       "    .dataframe tbody tr th:only-of-type {\n",
       "        vertical-align: middle;\n",
       "    }\n",
       "\n",
       "    .dataframe tbody tr th {\n",
       "        vertical-align: top;\n",
       "    }\n",
       "\n",
       "    .dataframe thead th {\n",
       "        text-align: right;\n",
       "    }\n",
       "</style>\n",
       "<table border=\"1\" class=\"dataframe\">\n",
       "  <thead>\n",
       "    <tr style=\"text-align: right;\">\n",
       "      <th></th>\n",
       "      <th>mean</th>\n",
       "      <th>count</th>\n",
       "      <th>diff</th>\n",
       "      <th>ratio</th>\n",
       "    </tr>\n",
       "    <tr>\n",
       "      <th>job</th>\n",
       "      <th></th>\n",
       "      <th></th>\n",
       "      <th></th>\n",
       "      <th></th>\n",
       "    </tr>\n",
       "  </thead>\n",
       "  <tbody>\n",
       "    <tr>\n",
       "      <th>admin.</th>\n",
       "      <td>0.119894</td>\n",
       "      <td>4137</td>\n",
       "      <td>0.003824</td>\n",
       "      <td>1.032947</td>\n",
       "    </tr>\n",
       "    <tr>\n",
       "      <th>blue-collar</th>\n",
       "      <td>0.072252</td>\n",
       "      <td>7806</td>\n",
       "      <td>-0.043817</td>\n",
       "      <td>0.622490</td>\n",
       "    </tr>\n",
       "    <tr>\n",
       "      <th>entrepreneur</th>\n",
       "      <td>0.086587</td>\n",
       "      <td>1178</td>\n",
       "      <td>-0.029482</td>\n",
       "      <td>0.745997</td>\n",
       "    </tr>\n",
       "    <tr>\n",
       "      <th>housemaid</th>\n",
       "      <td>0.093812</td>\n",
       "      <td>1002</td>\n",
       "      <td>-0.022257</td>\n",
       "      <td>0.808243</td>\n",
       "    </tr>\n",
       "    <tr>\n",
       "      <th>management</th>\n",
       "      <td>0.135467</td>\n",
       "      <td>7500</td>\n",
       "      <td>0.019397</td>\n",
       "      <td>1.167117</td>\n",
       "    </tr>\n",
       "    <tr>\n",
       "      <th>retired</th>\n",
       "      <td>0.222590</td>\n",
       "      <td>1815</td>\n",
       "      <td>0.106520</td>\n",
       "      <td>1.917727</td>\n",
       "    </tr>\n",
       "    <tr>\n",
       "      <th>self-employed</th>\n",
       "      <td>0.122862</td>\n",
       "      <td>1286</td>\n",
       "      <td>0.006792</td>\n",
       "      <td>1.058518</td>\n",
       "    </tr>\n",
       "    <tr>\n",
       "      <th>services</th>\n",
       "      <td>0.090746</td>\n",
       "      <td>3350</td>\n",
       "      <td>-0.025323</td>\n",
       "      <td>0.781827</td>\n",
       "    </tr>\n",
       "    <tr>\n",
       "      <th>student</th>\n",
       "      <td>0.278976</td>\n",
       "      <td>742</td>\n",
       "      <td>0.162906</td>\n",
       "      <td>2.403524</td>\n",
       "    </tr>\n",
       "    <tr>\n",
       "      <th>technician</th>\n",
       "      <td>0.108760</td>\n",
       "      <td>6096</td>\n",
       "      <td>-0.007310</td>\n",
       "      <td>0.937024</td>\n",
       "    </tr>\n",
       "    <tr>\n",
       "      <th>unemployed</th>\n",
       "      <td>0.160313</td>\n",
       "      <td>1023</td>\n",
       "      <td>0.044243</td>\n",
       "      <td>1.381180</td>\n",
       "    </tr>\n",
       "    <tr>\n",
       "      <th>unknown</th>\n",
       "      <td>0.111588</td>\n",
       "      <td>233</td>\n",
       "      <td>-0.004481</td>\n",
       "      <td>0.961390</td>\n",
       "    </tr>\n",
       "  </tbody>\n",
       "</table>\n",
       "</div>"
      ],
      "text/plain": [
       "                   mean  count      diff     ratio\n",
       "job                                               \n",
       "admin.         0.119894   4137  0.003824  1.032947\n",
       "blue-collar    0.072252   7806 -0.043817  0.622490\n",
       "entrepreneur   0.086587   1178 -0.029482  0.745997\n",
       "housemaid      0.093812   1002 -0.022257  0.808243\n",
       "management     0.135467   7500  0.019397  1.167117\n",
       "retired        0.222590   1815  0.106520  1.917727\n",
       "self-employed  0.122862   1286  0.006792  1.058518\n",
       "services       0.090746   3350 -0.025323  0.781827\n",
       "student        0.278976    742  0.162906  2.403524\n",
       "technician     0.108760   6096 -0.007310  0.937024\n",
       "unemployed     0.160313   1023  0.044243  1.381180\n",
       "unknown        0.111588    233 -0.004481  0.961390"
      ]
     },
     "metadata": {},
     "output_type": "display_data"
    },
    {
     "name": "stdout",
     "output_type": "stream",
     "text": [
      "\n",
      "\n",
      "marital\n"
     ]
    },
    {
     "data": {
      "text/html": [
       "<div>\n",
       "<style scoped>\n",
       "    .dataframe tbody tr th:only-of-type {\n",
       "        vertical-align: middle;\n",
       "    }\n",
       "\n",
       "    .dataframe tbody tr th {\n",
       "        vertical-align: top;\n",
       "    }\n",
       "\n",
       "    .dataframe thead th {\n",
       "        text-align: right;\n",
       "    }\n",
       "</style>\n",
       "<table border=\"1\" class=\"dataframe\">\n",
       "  <thead>\n",
       "    <tr style=\"text-align: right;\">\n",
       "      <th></th>\n",
       "      <th>mean</th>\n",
       "      <th>count</th>\n",
       "      <th>diff</th>\n",
       "      <th>ratio</th>\n",
       "    </tr>\n",
       "    <tr>\n",
       "      <th>marital</th>\n",
       "      <th></th>\n",
       "      <th></th>\n",
       "      <th></th>\n",
       "      <th></th>\n",
       "    </tr>\n",
       "  </thead>\n",
       "  <tbody>\n",
       "    <tr>\n",
       "      <th>divorced</th>\n",
       "      <td>0.119720</td>\n",
       "      <td>4143</td>\n",
       "      <td>0.003651</td>\n",
       "      <td>1.031451</td>\n",
       "    </tr>\n",
       "    <tr>\n",
       "      <th>married</th>\n",
       "      <td>0.100578</td>\n",
       "      <td>21804</td>\n",
       "      <td>-0.015492</td>\n",
       "      <td>0.866532</td>\n",
       "    </tr>\n",
       "    <tr>\n",
       "      <th>single</th>\n",
       "      <td>0.147637</td>\n",
       "      <td>10221</td>\n",
       "      <td>0.031568</td>\n",
       "      <td>1.271973</td>\n",
       "    </tr>\n",
       "  </tbody>\n",
       "</table>\n",
       "</div>"
      ],
      "text/plain": [
       "              mean  count      diff     ratio\n",
       "marital                                      \n",
       "divorced  0.119720   4143  0.003651  1.031451\n",
       "married   0.100578  21804 -0.015492  0.866532\n",
       "single    0.147637  10221  0.031568  1.271973"
      ]
     },
     "metadata": {},
     "output_type": "display_data"
    },
    {
     "name": "stdout",
     "output_type": "stream",
     "text": [
      "\n",
      "\n",
      "education\n"
     ]
    },
    {
     "data": {
      "text/html": [
       "<div>\n",
       "<style scoped>\n",
       "    .dataframe tbody tr th:only-of-type {\n",
       "        vertical-align: middle;\n",
       "    }\n",
       "\n",
       "    .dataframe tbody tr th {\n",
       "        vertical-align: top;\n",
       "    }\n",
       "\n",
       "    .dataframe thead th {\n",
       "        text-align: right;\n",
       "    }\n",
       "</style>\n",
       "<table border=\"1\" class=\"dataframe\">\n",
       "  <thead>\n",
       "    <tr style=\"text-align: right;\">\n",
       "      <th></th>\n",
       "      <th>mean</th>\n",
       "      <th>count</th>\n",
       "      <th>diff</th>\n",
       "      <th>ratio</th>\n",
       "    </tr>\n",
       "    <tr>\n",
       "      <th>education</th>\n",
       "      <th></th>\n",
       "      <th></th>\n",
       "      <th></th>\n",
       "      <th></th>\n",
       "    </tr>\n",
       "  </thead>\n",
       "  <tbody>\n",
       "    <tr>\n",
       "      <th>primary</th>\n",
       "      <td>0.086377</td>\n",
       "      <td>5476</td>\n",
       "      <td>-0.029693</td>\n",
       "      <td>0.744183</td>\n",
       "    </tr>\n",
       "    <tr>\n",
       "      <th>secondary</th>\n",
       "      <td>0.105303</td>\n",
       "      <td>18670</td>\n",
       "      <td>-0.010767</td>\n",
       "      <td>0.907238</td>\n",
       "    </tr>\n",
       "    <tr>\n",
       "      <th>tertiary</th>\n",
       "      <td>0.148970</td>\n",
       "      <td>10539</td>\n",
       "      <td>0.032901</td>\n",
       "      <td>1.283460</td>\n",
       "    </tr>\n",
       "    <tr>\n",
       "      <th>unknown</th>\n",
       "      <td>0.127444</td>\n",
       "      <td>1483</td>\n",
       "      <td>0.011375</td>\n",
       "      <td>1.098001</td>\n",
       "    </tr>\n",
       "  </tbody>\n",
       "</table>\n",
       "</div>"
      ],
      "text/plain": [
       "               mean  count      diff     ratio\n",
       "education                                     \n",
       "primary    0.086377   5476 -0.029693  0.744183\n",
       "secondary  0.105303  18670 -0.010767  0.907238\n",
       "tertiary   0.148970  10539  0.032901  1.283460\n",
       "unknown    0.127444   1483  0.011375  1.098001"
      ]
     },
     "metadata": {},
     "output_type": "display_data"
    },
    {
     "name": "stdout",
     "output_type": "stream",
     "text": [
      "\n",
      "\n",
      "housing\n"
     ]
    },
    {
     "data": {
      "text/html": [
       "<div>\n",
       "<style scoped>\n",
       "    .dataframe tbody tr th:only-of-type {\n",
       "        vertical-align: middle;\n",
       "    }\n",
       "\n",
       "    .dataframe tbody tr th {\n",
       "        vertical-align: top;\n",
       "    }\n",
       "\n",
       "    .dataframe thead th {\n",
       "        text-align: right;\n",
       "    }\n",
       "</style>\n",
       "<table border=\"1\" class=\"dataframe\">\n",
       "  <thead>\n",
       "    <tr style=\"text-align: right;\">\n",
       "      <th></th>\n",
       "      <th>mean</th>\n",
       "      <th>count</th>\n",
       "      <th>diff</th>\n",
       "      <th>ratio</th>\n",
       "    </tr>\n",
       "    <tr>\n",
       "      <th>housing</th>\n",
       "      <th></th>\n",
       "      <th></th>\n",
       "      <th></th>\n",
       "      <th></th>\n",
       "    </tr>\n",
       "  </thead>\n",
       "  <tbody>\n",
       "    <tr>\n",
       "      <th>no</th>\n",
       "      <td>0.166407</td>\n",
       "      <td>16033</td>\n",
       "      <td>0.050337</td>\n",
       "      <td>1.433683</td>\n",
       "    </tr>\n",
       "    <tr>\n",
       "      <th>yes</th>\n",
       "      <td>0.075987</td>\n",
       "      <td>20135</td>\n",
       "      <td>-0.040082</td>\n",
       "      <td>0.654669</td>\n",
       "    </tr>\n",
       "  </tbody>\n",
       "</table>\n",
       "</div>"
      ],
      "text/plain": [
       "             mean  count      diff     ratio\n",
       "housing                                     \n",
       "no       0.166407  16033  0.050337  1.433683\n",
       "yes      0.075987  20135 -0.040082  0.654669"
      ]
     },
     "metadata": {},
     "output_type": "display_data"
    },
    {
     "name": "stdout",
     "output_type": "stream",
     "text": [
      "\n",
      "\n",
      "contact\n"
     ]
    },
    {
     "data": {
      "text/html": [
       "<div>\n",
       "<style scoped>\n",
       "    .dataframe tbody tr th:only-of-type {\n",
       "        vertical-align: middle;\n",
       "    }\n",
       "\n",
       "    .dataframe tbody tr th {\n",
       "        vertical-align: top;\n",
       "    }\n",
       "\n",
       "    .dataframe thead th {\n",
       "        text-align: right;\n",
       "    }\n",
       "</style>\n",
       "<table border=\"1\" class=\"dataframe\">\n",
       "  <thead>\n",
       "    <tr style=\"text-align: right;\">\n",
       "      <th></th>\n",
       "      <th>mean</th>\n",
       "      <th>count</th>\n",
       "      <th>diff</th>\n",
       "      <th>ratio</th>\n",
       "    </tr>\n",
       "    <tr>\n",
       "      <th>contact</th>\n",
       "      <th></th>\n",
       "      <th></th>\n",
       "      <th></th>\n",
       "      <th></th>\n",
       "    </tr>\n",
       "  </thead>\n",
       "  <tbody>\n",
       "    <tr>\n",
       "      <th>cellular</th>\n",
       "      <td>0.148270</td>\n",
       "      <td>23464</td>\n",
       "      <td>0.032200</td>\n",
       "      <td>1.277422</td>\n",
       "    </tr>\n",
       "    <tr>\n",
       "      <th>telephone</th>\n",
       "      <td>0.137128</td>\n",
       "      <td>2319</td>\n",
       "      <td>0.021059</td>\n",
       "      <td>1.181431</td>\n",
       "    </tr>\n",
       "    <tr>\n",
       "      <th>unknown</th>\n",
       "      <td>0.038613</td>\n",
       "      <td>10385</td>\n",
       "      <td>-0.077456</td>\n",
       "      <td>0.332675</td>\n",
       "    </tr>\n",
       "  </tbody>\n",
       "</table>\n",
       "</div>"
      ],
      "text/plain": [
       "               mean  count      diff     ratio\n",
       "contact                                       \n",
       "cellular   0.148270  23464  0.032200  1.277422\n",
       "telephone  0.137128   2319  0.021059  1.181431\n",
       "unknown    0.038613  10385 -0.077456  0.332675"
      ]
     },
     "metadata": {},
     "output_type": "display_data"
    },
    {
     "name": "stdout",
     "output_type": "stream",
     "text": [
      "\n",
      "\n",
      "month\n"
     ]
    },
    {
     "data": {
      "text/html": [
       "<div>\n",
       "<style scoped>\n",
       "    .dataframe tbody tr th:only-of-type {\n",
       "        vertical-align: middle;\n",
       "    }\n",
       "\n",
       "    .dataframe tbody tr th {\n",
       "        vertical-align: top;\n",
       "    }\n",
       "\n",
       "    .dataframe thead th {\n",
       "        text-align: right;\n",
       "    }\n",
       "</style>\n",
       "<table border=\"1\" class=\"dataframe\">\n",
       "  <thead>\n",
       "    <tr style=\"text-align: right;\">\n",
       "      <th></th>\n",
       "      <th>mean</th>\n",
       "      <th>count</th>\n",
       "      <th>diff</th>\n",
       "      <th>ratio</th>\n",
       "    </tr>\n",
       "    <tr>\n",
       "      <th>month</th>\n",
       "      <th></th>\n",
       "      <th></th>\n",
       "      <th></th>\n",
       "      <th></th>\n",
       "    </tr>\n",
       "  </thead>\n",
       "  <tbody>\n",
       "    <tr>\n",
       "      <th>apr</th>\n",
       "      <td>0.202645</td>\n",
       "      <td>2344</td>\n",
       "      <td>0.086576</td>\n",
       "      <td>1.745895</td>\n",
       "    </tr>\n",
       "    <tr>\n",
       "      <th>aug</th>\n",
       "      <td>0.110954</td>\n",
       "      <td>4966</td>\n",
       "      <td>-0.005115</td>\n",
       "      <td>0.955932</td>\n",
       "    </tr>\n",
       "    <tr>\n",
       "      <th>dec</th>\n",
       "      <td>0.464481</td>\n",
       "      <td>183</td>\n",
       "      <td>0.348411</td>\n",
       "      <td>4.001749</td>\n",
       "    </tr>\n",
       "    <tr>\n",
       "      <th>feb</th>\n",
       "      <td>0.156723</td>\n",
       "      <td>2112</td>\n",
       "      <td>0.040654</td>\n",
       "      <td>1.350256</td>\n",
       "    </tr>\n",
       "    <tr>\n",
       "      <th>jan</th>\n",
       "      <td>0.098678</td>\n",
       "      <td>1135</td>\n",
       "      <td>-0.017391</td>\n",
       "      <td>0.850167</td>\n",
       "    </tr>\n",
       "    <tr>\n",
       "      <th>jul</th>\n",
       "      <td>0.091927</td>\n",
       "      <td>5537</td>\n",
       "      <td>-0.024142</td>\n",
       "      <td>0.792000</td>\n",
       "    </tr>\n",
       "    <tr>\n",
       "      <th>jun</th>\n",
       "      <td>0.098888</td>\n",
       "      <td>4318</td>\n",
       "      <td>-0.017181</td>\n",
       "      <td>0.851976</td>\n",
       "    </tr>\n",
       "    <tr>\n",
       "      <th>mar</th>\n",
       "      <td>0.516043</td>\n",
       "      <td>374</td>\n",
       "      <td>0.399973</td>\n",
       "      <td>4.445983</td>\n",
       "    </tr>\n",
       "    <tr>\n",
       "      <th>may</th>\n",
       "      <td>0.065219</td>\n",
       "      <td>10963</td>\n",
       "      <td>-0.050850</td>\n",
       "      <td>0.561900</td>\n",
       "    </tr>\n",
       "    <tr>\n",
       "      <th>nov</th>\n",
       "      <td>0.101481</td>\n",
       "      <td>3173</td>\n",
       "      <td>-0.014588</td>\n",
       "      <td>0.874315</td>\n",
       "    </tr>\n",
       "    <tr>\n",
       "      <th>oct</th>\n",
       "      <td>0.437396</td>\n",
       "      <td>599</td>\n",
       "      <td>0.321326</td>\n",
       "      <td>3.768396</td>\n",
       "    </tr>\n",
       "    <tr>\n",
       "      <th>sep</th>\n",
       "      <td>0.465517</td>\n",
       "      <td>464</td>\n",
       "      <td>0.349448</td>\n",
       "      <td>4.010678</td>\n",
       "    </tr>\n",
       "  </tbody>\n",
       "</table>\n",
       "</div>"
      ],
      "text/plain": [
       "           mean  count      diff     ratio\n",
       "month                                     \n",
       "apr    0.202645   2344  0.086576  1.745895\n",
       "aug    0.110954   4966 -0.005115  0.955932\n",
       "dec    0.464481    183  0.348411  4.001749\n",
       "feb    0.156723   2112  0.040654  1.350256\n",
       "jan    0.098678   1135 -0.017391  0.850167\n",
       "jul    0.091927   5537 -0.024142  0.792000\n",
       "jun    0.098888   4318 -0.017181  0.851976\n",
       "mar    0.516043    374  0.399973  4.445983\n",
       "may    0.065219  10963 -0.050850  0.561900\n",
       "nov    0.101481   3173 -0.014588  0.874315\n",
       "oct    0.437396    599  0.321326  3.768396\n",
       "sep    0.465517    464  0.349448  4.010678"
      ]
     },
     "metadata": {},
     "output_type": "display_data"
    },
    {
     "name": "stdout",
     "output_type": "stream",
     "text": [
      "\n",
      "\n",
      "poutcome\n"
     ]
    },
    {
     "data": {
      "text/html": [
       "<div>\n",
       "<style scoped>\n",
       "    .dataframe tbody tr th:only-of-type {\n",
       "        vertical-align: middle;\n",
       "    }\n",
       "\n",
       "    .dataframe tbody tr th {\n",
       "        vertical-align: top;\n",
       "    }\n",
       "\n",
       "    .dataframe thead th {\n",
       "        text-align: right;\n",
       "    }\n",
       "</style>\n",
       "<table border=\"1\" class=\"dataframe\">\n",
       "  <thead>\n",
       "    <tr style=\"text-align: right;\">\n",
       "      <th></th>\n",
       "      <th>mean</th>\n",
       "      <th>count</th>\n",
       "      <th>diff</th>\n",
       "      <th>ratio</th>\n",
       "    </tr>\n",
       "    <tr>\n",
       "      <th>poutcome</th>\n",
       "      <th></th>\n",
       "      <th></th>\n",
       "      <th></th>\n",
       "      <th></th>\n",
       "    </tr>\n",
       "  </thead>\n",
       "  <tbody>\n",
       "    <tr>\n",
       "      <th>failure</th>\n",
       "      <td>0.126891</td>\n",
       "      <td>3901</td>\n",
       "      <td>0.010821</td>\n",
       "      <td>1.093229</td>\n",
       "    </tr>\n",
       "    <tr>\n",
       "      <th>other</th>\n",
       "      <td>0.170341</td>\n",
       "      <td>1497</td>\n",
       "      <td>0.054271</td>\n",
       "      <td>1.467575</td>\n",
       "    </tr>\n",
       "    <tr>\n",
       "      <th>success</th>\n",
       "      <td>0.641322</td>\n",
       "      <td>1210</td>\n",
       "      <td>0.525253</td>\n",
       "      <td>5.525332</td>\n",
       "    </tr>\n",
       "    <tr>\n",
       "      <th>unknown</th>\n",
       "      <td>0.090392</td>\n",
       "      <td>29560</td>\n",
       "      <td>-0.025677</td>\n",
       "      <td>0.778779</td>\n",
       "    </tr>\n",
       "  </tbody>\n",
       "</table>\n",
       "</div>"
      ],
      "text/plain": [
       "              mean  count      diff     ratio\n",
       "poutcome                                     \n",
       "failure   0.126891   3901  0.010821  1.093229\n",
       "other     0.170341   1497  0.054271  1.467575\n",
       "success   0.641322   1210  0.525253  5.525332\n",
       "unknown   0.090392  29560 -0.025677  0.778779"
      ]
     },
     "metadata": {},
     "output_type": "display_data"
    },
    {
     "name": "stdout",
     "output_type": "stream",
     "text": [
      "\n",
      "\n"
     ]
    }
   ],
   "source": [
    "from IPython.display import display\n",
    "\n",
    "global_churn = df_full_train['y'].mean()\n",
    "\n",
    "for c in categorical:\n",
    "    print (c)\n",
    "    df_group = df_full_train.groupby(c)['y'].agg(['mean','count'])\n",
    "    df_group['diff'] = df_group['mean'] - global_churn\n",
    "    df_group['ratio'] = df_group['mean'] / global_churn\n",
    "    display (df_group)\n",
    "    print()\n",
    "    print()\n"
   ]
  },
  {
   "cell_type": "code",
   "execution_count": 22,
   "id": "5b4fcc67-47a1-43f7-b1db-cb87e8341614",
   "metadata": {},
   "outputs": [
    {
     "data": {
      "text/plain": [
       "0.8816633488166334"
      ]
     },
     "metadata": {},
     "output_type": "display_data"
    }
   ],
   "source": [
    "model = LogisticRegression(solver='liblinear', C=100, max_iter=1000, random_state=42).fit(X_train, y_train)\n",
    "y_pred = model.predict_proba(X_val)[:,1]\n",
    "chur = y_pred >=50\n",
    "display((y_val==chur).mean())"
   ]
  },
  {
   "cell_type": "code",
   "execution_count": 23,
   "id": "a4602c23-fd5d-4a82-a2a2-a9ccdbf34e48",
   "metadata": {},
   "outputs": [],
   "source": [
    "#categorical features\n",
    "small_cat = ['job', 'marital', 'education', 'housing', 'contact', 'month',\n",
    "       'poutcome']\n",
    "\n",
    "#numerical features\n",
    "small_num = [ 'age', 'balance','day', 'duration', 'campaign', 'pdays'] #age"
   ]
  },
  {
   "cell_type": "code",
   "execution_count": 24,
   "id": "d3ae1471-4fa6-40ad-8f65-cd146192900b",
   "metadata": {},
   "outputs": [],
   "source": [
    "# using one hot encoding on the categorical dataset\n",
    "from sklearn.feature_extraction import DictVectorizer\n",
    "\n",
    "dv = DictVectorizer(sparse = False)\n",
    "train_dic = df_train[small_num  + small_cat].to_dict(orient = 'records')\n",
    "X_trains = dv.fit_transform(train_dic)\n",
    "\n",
    "val_dic = df_val[small_num + small_cat].to_dict(orient = 'records')\n",
    "X_vals = dv.fit_transform(val_dic)\n"
   ]
  },
  {
   "cell_type": "code",
   "execution_count": 25,
   "id": "22e9c00f-34db-4d8b-8aaf-3e7c0ca1f5a4",
   "metadata": {},
   "outputs": [
    {
     "data": {
      "text/html": [
       "<style>#sk-container-id-2 {color: black;}#sk-container-id-2 pre{padding: 0;}#sk-container-id-2 div.sk-toggleable {background-color: white;}#sk-container-id-2 label.sk-toggleable__label {cursor: pointer;display: block;width: 100%;margin-bottom: 0;padding: 0.3em;box-sizing: border-box;text-align: center;}#sk-container-id-2 label.sk-toggleable__label-arrow:before {content: \"▸\";float: left;margin-right: 0.25em;color: #696969;}#sk-container-id-2 label.sk-toggleable__label-arrow:hover:before {color: black;}#sk-container-id-2 div.sk-estimator:hover label.sk-toggleable__label-arrow:before {color: black;}#sk-container-id-2 div.sk-toggleable__content {max-height: 0;max-width: 0;overflow: hidden;text-align: left;background-color: #f0f8ff;}#sk-container-id-2 div.sk-toggleable__content pre {margin: 0.2em;color: black;border-radius: 0.25em;background-color: #f0f8ff;}#sk-container-id-2 input.sk-toggleable__control:checked~div.sk-toggleable__content {max-height: 200px;max-width: 100%;overflow: auto;}#sk-container-id-2 input.sk-toggleable__control:checked~label.sk-toggleable__label-arrow:before {content: \"▾\";}#sk-container-id-2 div.sk-estimator input.sk-toggleable__control:checked~label.sk-toggleable__label {background-color: #d4ebff;}#sk-container-id-2 div.sk-label input.sk-toggleable__control:checked~label.sk-toggleable__label {background-color: #d4ebff;}#sk-container-id-2 input.sk-hidden--visually {border: 0;clip: rect(1px 1px 1px 1px);clip: rect(1px, 1px, 1px, 1px);height: 1px;margin: -1px;overflow: hidden;padding: 0;position: absolute;width: 1px;}#sk-container-id-2 div.sk-estimator {font-family: monospace;background-color: #f0f8ff;border: 1px dotted black;border-radius: 0.25em;box-sizing: border-box;margin-bottom: 0.5em;}#sk-container-id-2 div.sk-estimator:hover {background-color: #d4ebff;}#sk-container-id-2 div.sk-parallel-item::after {content: \"\";width: 100%;border-bottom: 1px solid gray;flex-grow: 1;}#sk-container-id-2 div.sk-label:hover label.sk-toggleable__label {background-color: #d4ebff;}#sk-container-id-2 div.sk-serial::before {content: \"\";position: absolute;border-left: 1px solid gray;box-sizing: border-box;top: 0;bottom: 0;left: 50%;z-index: 0;}#sk-container-id-2 div.sk-serial {display: flex;flex-direction: column;align-items: center;background-color: white;padding-right: 0.2em;padding-left: 0.2em;position: relative;}#sk-container-id-2 div.sk-item {position: relative;z-index: 1;}#sk-container-id-2 div.sk-parallel {display: flex;align-items: stretch;justify-content: center;background-color: white;position: relative;}#sk-container-id-2 div.sk-item::before, #sk-container-id-2 div.sk-parallel-item::before {content: \"\";position: absolute;border-left: 1px solid gray;box-sizing: border-box;top: 0;bottom: 0;left: 50%;z-index: -1;}#sk-container-id-2 div.sk-parallel-item {display: flex;flex-direction: column;z-index: 1;position: relative;background-color: white;}#sk-container-id-2 div.sk-parallel-item:first-child::after {align-self: flex-end;width: 50%;}#sk-container-id-2 div.sk-parallel-item:last-child::after {align-self: flex-start;width: 50%;}#sk-container-id-2 div.sk-parallel-item:only-child::after {width: 0;}#sk-container-id-2 div.sk-dashed-wrapped {border: 1px dashed gray;margin: 0 0.4em 0.5em 0.4em;box-sizing: border-box;padding-bottom: 0.4em;background-color: white;}#sk-container-id-2 div.sk-label label {font-family: monospace;font-weight: bold;display: inline-block;line-height: 1.2em;}#sk-container-id-2 div.sk-label-container {text-align: center;}#sk-container-id-2 div.sk-container {/* jupyter's `normalize.less` sets `[hidden] { display: none; }` but bootstrap.min.css set `[hidden] { display: none !important; }` so we also need the `!important` here to be able to override the default hidden behavior on the sphinx rendered scikit-learn.org. See: https://github.com/scikit-learn/scikit-learn/issues/21755 */display: inline-block !important;position: relative;}#sk-container-id-2 div.sk-text-repr-fallback {display: none;}</style><div id=\"sk-container-id-2\" class=\"sk-top-container\"><div class=\"sk-text-repr-fallback\"><pre>LogisticRegression(max_iter=1000, random_state=42, solver=&#x27;liblinear&#x27;)</pre><b>In a Jupyter environment, please rerun this cell to show the HTML representation or trust the notebook. <br />On GitHub, the HTML representation is unable to render, please try loading this page with nbviewer.org.</b></div><div class=\"sk-container\" hidden><div class=\"sk-item\"><div class=\"sk-estimator sk-toggleable\"><input class=\"sk-toggleable__control sk-hidden--visually\" id=\"sk-estimator-id-2\" type=\"checkbox\" checked><label for=\"sk-estimator-id-2\" class=\"sk-toggleable__label sk-toggleable__label-arrow\">LogisticRegression</label><div class=\"sk-toggleable__content\"><pre>LogisticRegression(max_iter=1000, random_state=42, solver=&#x27;liblinear&#x27;)</pre></div></div></div></div></div>"
      ],
      "text/plain": [
       "LogisticRegression(max_iter=1000, random_state=42, solver='liblinear')"
      ]
     },
     "execution_count": 25,
     "metadata": {},
     "output_type": "execute_result"
    }
   ],
   "source": [
    "model = LogisticRegression(solver='liblinear', C=1.0, max_iter=1000, random_state=42)\n",
    "model.fit(X_trains, y_train)"
   ]
  },
  {
   "cell_type": "code",
   "execution_count": 26,
   "id": "589d3ed2-77ed-4a0f-a3d2-0309d086751a",
   "metadata": {},
   "outputs": [
    {
     "data": {
      "text/plain": [
       "0.8816633488166334"
      ]
     },
     "execution_count": 26,
     "metadata": {},
     "output_type": "execute_result"
    }
   ],
   "source": [
    "y_preds =model.predict_proba(X_vals)[:,1]\n",
    "chu = y_preds >=50\n",
    "(y_val==chu).mean()"
   ]
  },
  {
   "cell_type": "code",
   "execution_count": 27,
   "id": "cc75d384-11c9-433d-8681-3037cf7072a9",
   "metadata": {},
   "outputs": [
    {
     "data": {
      "text/plain": [
       "0.898"
      ]
     },
     "metadata": {},
     "output_type": "display_data"
    },
    {
     "data": {
      "text/plain": [
       "0.901"
      ]
     },
     "metadata": {},
     "output_type": "display_data"
    },
    {
     "data": {
      "text/plain": [
       "0.901"
      ]
     },
     "metadata": {},
     "output_type": "display_data"
    },
    {
     "data": {
      "text/plain": [
       "0.901"
      ]
     },
     "metadata": {},
     "output_type": "display_data"
    },
    {
     "data": {
      "text/plain": [
       "0.901"
      ]
     },
     "metadata": {},
     "output_type": "display_data"
    }
   ],
   "source": [
    "C = [0.01, 0.1, 1, 10, 100]\n",
    "\n",
    "for i in C:\n",
    "    model = LogisticRegression(solver='liblinear', C=i, max_iter=1000, random_state=42).fit(X_train, y_train)\n",
    "    y_pred = model.predict_proba(X_val)[:, 1]  \n",
    "    churn = y_pred >= 0.5  \n",
    "    accuracy = (y_val == churn).mean()  \n",
    "    display(round(accuracy, 3))  \n"
   ]
  },
  {
   "cell_type": "code",
   "execution_count": 28,
   "id": "7c6bb3bd-ce9b-46ff-aac3-28ae0c05af38",
   "metadata": {},
   "outputs": [],
   "source": [
    "actual_pos = y_val==1\n",
    "actual_neg = y_val ==0"
   ]
  },
  {
   "cell_type": "code",
   "execution_count": 29,
   "id": "c8059f2e-f091-4d64-a342-3e241c8fb4c3",
   "metadata": {},
   "outputs": [],
   "source": [
    "t= 0.5\n",
    "predict_pos = y_pred>=t\n",
    "predict_neg = y_pred<t"
   ]
  },
  {
   "cell_type": "code",
   "execution_count": 30,
   "id": "022ef1e1-7524-4c44-8c0e-794b592f718e",
   "metadata": {},
   "outputs": [],
   "source": [
    "tp = (predict_pos & actual_pos).sum()\n",
    "tn = (predict_neg & actual_neg).sum()\n",
    "\n",
    "fp =(predict_pos & actual_neg).sum()\n",
    "fn = (predict_neg & actual_pos).sum()"
   ]
  },
  {
   "cell_type": "code",
   "execution_count": null,
   "id": "d0f2f4df-89f8-4a90-ab61-a62560a80230",
   "metadata": {},
   "outputs": [],
   "source": []
  },
  {
   "cell_type": "code",
   "execution_count": 31,
   "id": "ec7f1269-68df-40b1-a4c1-17d93634a83d",
   "metadata": {},
   "outputs": [
    {
     "data": {
      "text/plain": [
       "array([[7778,  194],\n",
       "       [ 700,  370]])"
      ]
     },
     "execution_count": 31,
     "metadata": {},
     "output_type": "execute_result"
    }
   ],
   "source": [
    "confusion_matrix = np.array([[tn,fp],\n",
    "                            [fn, tp]])\n",
    "\n",
    "confusion_matrix"
   ]
  },
  {
   "cell_type": "code",
   "execution_count": 32,
   "id": "03bb666b-a399-4bf6-ac1b-2251a68695fc",
   "metadata": {},
   "outputs": [
    {
     "data": {
      "text/plain": [
       "array([[0.86, 0.02],\n",
       "       [0.08, 0.04]])"
      ]
     },
     "execution_count": 32,
     "metadata": {},
     "output_type": "execute_result"
    }
   ],
   "source": [
    "(confusion_matrix/confusion_matrix.sum()).round(2)"
   ]
  },
  {
   "cell_type": "code",
   "execution_count": 33,
   "id": "29bfa542-b09c-4a81-97a3-5cf1a7f33313",
   "metadata": {},
   "outputs": [
    {
     "data": {
      "text/plain": [
       "0.9011280690112807"
      ]
     },
     "execution_count": 33,
     "metadata": {},
     "output_type": "execute_result"
    }
   ],
   "source": [
    "accuracy = (tn +tp)/(tn+tp+fp+fn)\n",
    "accuracy"
   ]
  },
  {
   "cell_type": "code",
   "execution_count": 34,
   "id": "0cd51898-b14c-4599-9971-0c5efa97444d",
   "metadata": {},
   "outputs": [
    {
     "data": {
      "text/plain": [
       "(0.66, 0.35)"
      ]
     },
     "execution_count": 34,
     "metadata": {},
     "output_type": "execute_result"
    }
   ],
   "source": [
    "#  precision and recall\n",
    "# recall shows number of churing customers correctly identified\n",
    "# precision shows how accurate our churning predicition  for all customers \n",
    "\n",
    "p = tp /(tp+fp)\n",
    "r = tp/(tp + fn)\n",
    "\n",
    "p.round(2), r.round(2)"
   ]
  },
  {
   "cell_type": "code",
   "execution_count": 35,
   "id": "b32ee1f7-5abf-4351-bb7f-ddd5e326d3b1",
   "metadata": {},
   "outputs": [
    {
     "data": {
      "text/plain": [
       "0.45287637698898414"
      ]
     },
     "execution_count": 35,
     "metadata": {},
     "output_type": "execute_result"
    }
   ],
   "source": [
    "# f1 score\n",
    "\n",
    "f = 2* ((p * r)/(p + r))\n",
    "f"
   ]
  },
  {
   "cell_type": "code",
   "execution_count": 36,
   "id": "d2eea2e2-4091-4934-8139-4cee0edf60e0",
   "metadata": {},
   "outputs": [
    {
     "data": {
      "text/plain": [
       "(0.024335173105870547, 0.34579439252336447)"
      ]
     },
     "execution_count": 36,
     "metadata": {},
     "output_type": "execute_result"
    }
   ],
   "source": [
    "#  ROC curve\n",
    "\n",
    "fpr = fp/(fp+tn)\n",
    "tpr = tp/(fn+tp) #similar to recall\n",
    "\n",
    "fpr, tpr"
   ]
  },
  {
   "cell_type": "code",
   "execution_count": 62,
   "id": "53ef01e4-f159-4113-a85c-99e0661be810",
   "metadata": {},
   "outputs": [],
   "source": [
    "score = []\n",
    "threshold = np.linspace(0,1, 101)\n",
    "\n",
    "for t in threshold:\n",
    "    actual_pos = y_val==1\n",
    "    actual_neg = y_val ==0\n",
    "\n",
    "    predict_pos = y_pred>=t\n",
    "    predict_neg = y_pred<t\n",
    "\n",
    "    tp = (predict_pos & actual_pos).sum()\n",
    "    tn = (predict_neg & actual_neg).sum()\n",
    "\n",
    "    fp =(predict_pos & actual_neg).sum()\n",
    "    fn = (predict_neg & actual_pos).sum()\n",
    "\n",
    "    fpr = fp/(fp+tn)\n",
    "    tpr = tp/(fn+tp)\n",
    "\n",
    "    precision = tp /(tp+fp)\n",
    "    recall = tp/(tp + fn)\n",
    "\n",
    "    f1 = 2* ((precision * recall)/(precision + recall))\n",
    "\n",
    "    score.append((t,tp,tn,fp,fn,fpr,tpr,precision, recall,f1))\n",
    "\n"
   ]
  },
  {
   "cell_type": "code",
   "execution_count": 69,
   "id": "428b043d-71e8-42e9-ab4d-ca56d32c0bb5",
   "metadata": {},
   "outputs": [
    {
     "data": {
      "text/html": [
       "<div>\n",
       "<style scoped>\n",
       "    .dataframe tbody tr th:only-of-type {\n",
       "        vertical-align: middle;\n",
       "    }\n",
       "\n",
       "    .dataframe tbody tr th {\n",
       "        vertical-align: top;\n",
       "    }\n",
       "\n",
       "    .dataframe thead th {\n",
       "        text-align: right;\n",
       "    }\n",
       "</style>\n",
       "<table border=\"1\" class=\"dataframe\">\n",
       "  <thead>\n",
       "    <tr style=\"text-align: right;\">\n",
       "      <th></th>\n",
       "      <th>thresold</th>\n",
       "      <th>tp</th>\n",
       "      <th>tn</th>\n",
       "      <th>fp</th>\n",
       "      <th>fn</th>\n",
       "      <th>fpr</th>\n",
       "      <th>tpr</th>\n",
       "      <th>precision</th>\n",
       "      <th>recall</th>\n",
       "      <th>f1</th>\n",
       "    </tr>\n",
       "  </thead>\n",
       "  <tbody>\n",
       "    <tr>\n",
       "      <th>21</th>\n",
       "      <td>0.21</td>\n",
       "      <td>715</td>\n",
       "      <td>7332</td>\n",
       "      <td>640</td>\n",
       "      <td>355</td>\n",
       "      <td>0.080281</td>\n",
       "      <td>0.668224</td>\n",
       "      <td>0.527675</td>\n",
       "      <td>0.668224</td>\n",
       "      <td>0.589691</td>\n",
       "    </tr>\n",
       "  </tbody>\n",
       "</table>\n",
       "</div>"
      ],
      "text/plain": [
       "    thresold   tp    tn   fp   fn       fpr       tpr  precision    recall  \\\n",
       "21      0.21  715  7332  640  355  0.080281  0.668224   0.527675  0.668224   \n",
       "\n",
       "          f1  \n",
       "21  0.589691  "
      ]
     },
     "execution_count": 69,
     "metadata": {},
     "output_type": "execute_result"
    }
   ],
   "source": [
    "df_scores[df_scores['f1']==0.5896907216494846]"
   ]
  },
  {
   "cell_type": "code",
   "execution_count": 63,
   "id": "e582531c-a4cd-45a1-ba40-f931bab0813c",
   "metadata": {},
   "outputs": [
    {
     "data": {
      "text/html": [
       "<div>\n",
       "<style scoped>\n",
       "    .dataframe tbody tr th:only-of-type {\n",
       "        vertical-align: middle;\n",
       "    }\n",
       "\n",
       "    .dataframe tbody tr th {\n",
       "        vertical-align: top;\n",
       "    }\n",
       "\n",
       "    .dataframe thead th {\n",
       "        text-align: right;\n",
       "    }\n",
       "</style>\n",
       "<table border=\"1\" class=\"dataframe\">\n",
       "  <thead>\n",
       "    <tr style=\"text-align: right;\">\n",
       "      <th></th>\n",
       "      <th>thresold</th>\n",
       "      <th>tp</th>\n",
       "      <th>tn</th>\n",
       "      <th>fp</th>\n",
       "      <th>fn</th>\n",
       "      <th>fpr</th>\n",
       "      <th>tpr</th>\n",
       "      <th>precision</th>\n",
       "      <th>recall</th>\n",
       "      <th>f1</th>\n",
       "    </tr>\n",
       "  </thead>\n",
       "  <tbody>\n",
       "    <tr>\n",
       "      <th>0</th>\n",
       "      <td>0.0</td>\n",
       "      <td>1070</td>\n",
       "      <td>0</td>\n",
       "      <td>7972</td>\n",
       "      <td>0</td>\n",
       "      <td>1.000000</td>\n",
       "      <td>1.000000</td>\n",
       "      <td>0.118337</td>\n",
       "      <td>1.000000</td>\n",
       "      <td>0.211630</td>\n",
       "    </tr>\n",
       "    <tr>\n",
       "      <th>10</th>\n",
       "      <td>0.1</td>\n",
       "      <td>933</td>\n",
       "      <td>6453</td>\n",
       "      <td>1519</td>\n",
       "      <td>137</td>\n",
       "      <td>0.190542</td>\n",
       "      <td>0.871963</td>\n",
       "      <td>0.380506</td>\n",
       "      <td>0.871963</td>\n",
       "      <td>0.529813</td>\n",
       "    </tr>\n",
       "    <tr>\n",
       "      <th>20</th>\n",
       "      <td>0.2</td>\n",
       "      <td>732</td>\n",
       "      <td>7285</td>\n",
       "      <td>687</td>\n",
       "      <td>338</td>\n",
       "      <td>0.086177</td>\n",
       "      <td>0.684112</td>\n",
       "      <td>0.515856</td>\n",
       "      <td>0.684112</td>\n",
       "      <td>0.588188</td>\n",
       "    </tr>\n",
       "    <tr>\n",
       "      <th>30</th>\n",
       "      <td>0.3</td>\n",
       "      <td>573</td>\n",
       "      <td>7564</td>\n",
       "      <td>408</td>\n",
       "      <td>497</td>\n",
       "      <td>0.051179</td>\n",
       "      <td>0.535514</td>\n",
       "      <td>0.584098</td>\n",
       "      <td>0.535514</td>\n",
       "      <td>0.558752</td>\n",
       "    </tr>\n",
       "    <tr>\n",
       "      <th>40</th>\n",
       "      <td>0.4</td>\n",
       "      <td>458</td>\n",
       "      <td>7694</td>\n",
       "      <td>278</td>\n",
       "      <td>612</td>\n",
       "      <td>0.034872</td>\n",
       "      <td>0.428037</td>\n",
       "      <td>0.622283</td>\n",
       "      <td>0.428037</td>\n",
       "      <td>0.507198</td>\n",
       "    </tr>\n",
       "    <tr>\n",
       "      <th>50</th>\n",
       "      <td>0.5</td>\n",
       "      <td>370</td>\n",
       "      <td>7778</td>\n",
       "      <td>194</td>\n",
       "      <td>700</td>\n",
       "      <td>0.024335</td>\n",
       "      <td>0.345794</td>\n",
       "      <td>0.656028</td>\n",
       "      <td>0.345794</td>\n",
       "      <td>0.452876</td>\n",
       "    </tr>\n",
       "    <tr>\n",
       "      <th>60</th>\n",
       "      <td>0.6</td>\n",
       "      <td>285</td>\n",
       "      <td>7844</td>\n",
       "      <td>128</td>\n",
       "      <td>785</td>\n",
       "      <td>0.016056</td>\n",
       "      <td>0.266355</td>\n",
       "      <td>0.690073</td>\n",
       "      <td>0.266355</td>\n",
       "      <td>0.384356</td>\n",
       "    </tr>\n",
       "    <tr>\n",
       "      <th>70</th>\n",
       "      <td>0.7</td>\n",
       "      <td>218</td>\n",
       "      <td>7879</td>\n",
       "      <td>93</td>\n",
       "      <td>852</td>\n",
       "      <td>0.011666</td>\n",
       "      <td>0.203738</td>\n",
       "      <td>0.700965</td>\n",
       "      <td>0.203738</td>\n",
       "      <td>0.315713</td>\n",
       "    </tr>\n",
       "    <tr>\n",
       "      <th>80</th>\n",
       "      <td>0.8</td>\n",
       "      <td>151</td>\n",
       "      <td>7908</td>\n",
       "      <td>64</td>\n",
       "      <td>919</td>\n",
       "      <td>0.008028</td>\n",
       "      <td>0.141121</td>\n",
       "      <td>0.702326</td>\n",
       "      <td>0.141121</td>\n",
       "      <td>0.235019</td>\n",
       "    </tr>\n",
       "    <tr>\n",
       "      <th>90</th>\n",
       "      <td>0.9</td>\n",
       "      <td>79</td>\n",
       "      <td>7948</td>\n",
       "      <td>24</td>\n",
       "      <td>991</td>\n",
       "      <td>0.003011</td>\n",
       "      <td>0.073832</td>\n",
       "      <td>0.766990</td>\n",
       "      <td>0.073832</td>\n",
       "      <td>0.134697</td>\n",
       "    </tr>\n",
       "    <tr>\n",
       "      <th>100</th>\n",
       "      <td>1.0</td>\n",
       "      <td>0</td>\n",
       "      <td>7972</td>\n",
       "      <td>0</td>\n",
       "      <td>1070</td>\n",
       "      <td>0.000000</td>\n",
       "      <td>0.000000</td>\n",
       "      <td>NaN</td>\n",
       "      <td>0.000000</td>\n",
       "      <td>NaN</td>\n",
       "    </tr>\n",
       "  </tbody>\n",
       "</table>\n",
       "</div>"
      ],
      "text/plain": [
       "     thresold    tp    tn    fp    fn       fpr       tpr  precision  \\\n",
       "0         0.0  1070     0  7972     0  1.000000  1.000000   0.118337   \n",
       "10        0.1   933  6453  1519   137  0.190542  0.871963   0.380506   \n",
       "20        0.2   732  7285   687   338  0.086177  0.684112   0.515856   \n",
       "30        0.3   573  7564   408   497  0.051179  0.535514   0.584098   \n",
       "40        0.4   458  7694   278   612  0.034872  0.428037   0.622283   \n",
       "50        0.5   370  7778   194   700  0.024335  0.345794   0.656028   \n",
       "60        0.6   285  7844   128   785  0.016056  0.266355   0.690073   \n",
       "70        0.7   218  7879    93   852  0.011666  0.203738   0.700965   \n",
       "80        0.8   151  7908    64   919  0.008028  0.141121   0.702326   \n",
       "90        0.9    79  7948    24   991  0.003011  0.073832   0.766990   \n",
       "100       1.0     0  7972     0  1070  0.000000  0.000000        NaN   \n",
       "\n",
       "       recall        f1  \n",
       "0    1.000000  0.211630  \n",
       "10   0.871963  0.529813  \n",
       "20   0.684112  0.588188  \n",
       "30   0.535514  0.558752  \n",
       "40   0.428037  0.507198  \n",
       "50   0.345794  0.452876  \n",
       "60   0.266355  0.384356  \n",
       "70   0.203738  0.315713  \n",
       "80   0.141121  0.235019  \n",
       "90   0.073832  0.134697  \n",
       "100  0.000000       NaN  "
      ]
     },
     "execution_count": 63,
     "metadata": {},
     "output_type": "execute_result"
    }
   ],
   "source": [
    "columns =['thresold','tp', 'tn', 'fp', 'fn','fpr','tpr','precision', 'recall','f1']\n",
    "df_scores = pd.DataFrame(score, columns = columns)\n",
    "df_scores[::10]"
   ]
  },
  {
   "cell_type": "code",
   "execution_count": 65,
   "id": "1cedf5ce-5d84-4e0e-b130-fec2ef938be1",
   "metadata": {},
   "outputs": [
    {
     "data": {
      "image/png": "[encoded data removed]",
      "text/plain": [
       "<Figure size 640x480 with 1 Axes>"
      ]
     },
     "metadata": {},
     "output_type": "display_data"
    }
   ],
   "source": [
    "plt.plot(df_scores['thresold'], df_scores['precision'], label ='prec')\n",
    "plt.plot(df_scores['thresold'], df_scores['recall'], label ='recal')\n",
    "plt.plot(df_scores['thresold'], df_scores['f1'], label ='f1')\n",
    "\n",
    "plt.xlabel('thresold')\n",
    "plt.ylabel('churning rate')\n",
    "plt.legend()\n",
    "plt.show();"
   ]
  },
  {
   "cell_type": "code",
   "execution_count": 40,
   "id": "8cf2a7c0-10ba-4c33-83b1-846cf8705e22",
   "metadata": {},
   "outputs": [
    {
     "data": {
      "image/png": "[encoded data removed]",
      "text/plain": [
       "<Figure size 640x480 with 1 Axes>"
      ]
     },
     "metadata": {},
     "output_type": "display_data"
    }
   ],
   "source": [
    "plt.plot(df_scores['thresold'], df_scores['tpr'], label ='TPR')\n",
    "plt.plot(df_scores['thresold'], df_scores['fpr'], label ='FPR')\n",
    "plt.xlabel('thresold')\n",
    "plt.ylabel('churning rate')\n",
    "plt.legend()\n",
    "plt.show();"
   ]
  },
  {
   "cell_type": "code",
   "execution_count": 41,
   "id": "89f03a0c-a52c-48e7-8168-ad89514bd19c",
   "metadata": {},
   "outputs": [],
   "source": [
    "#  creating an ideal model\n",
    "\n",
    "num_neg = (y_val==0).sum()\n",
    "num_pos =(y_val==1).sum()\n"
   ]
  },
  {
   "cell_type": "code",
   "execution_count": 42,
   "id": "8fb79b05-5076-459e-bc56-09e0e142e5f9",
   "metadata": {},
   "outputs": [],
   "source": [
    "y_ideal = np.repeat([0,1], [num_neg,num_pos])\n",
    "y_ideal_pred = np.linspace(0,1,len(y_val))"
   ]
  },
  {
   "cell_type": "code",
   "execution_count": 43,
   "id": "b991cdf5-d6fb-462d-8d52-ce61b59ec714",
   "metadata": {},
   "outputs": [
    {
     "data": {
      "text/plain": [
       "0.9993364299933643"
      ]
     },
     "execution_count": 43,
     "metadata": {},
     "output_type": "execute_result"
    }
   ],
   "source": [
    "((y_ideal_pred>=0.881)==y_ideal).mean()"
   ]
  },
  {
   "cell_type": "code",
   "execution_count": 44,
   "id": "45152e26-ed34-496f-9aae-7ab23aa22c17",
   "metadata": {},
   "outputs": [],
   "source": [
    "def tpr_fpr_df(y_val,y_pred):\n",
    "    score = []\n",
    "    threshold = np.linspace(0,1, 101)\n",
    "\n",
    "    for t in threshold:\n",
    "        actual_pos = y_val==1\n",
    "        actual_neg = y_val ==0\n",
    "\n",
    "        predict_pos = y_pred>=t\n",
    "        predict_neg = y_pred<t\n",
    "    \n",
    "        tp = (predict_pos & actual_pos).sum()\n",
    "        tn = (predict_neg & actual_neg).sum()\n",
    "    \n",
    "        fp =(predict_pos & actual_neg).sum()\n",
    "        fn = (predict_neg & actual_pos).sum()\n",
    "    \n",
    "        fpr = fp/(fp+tn)\n",
    "        tpr = tp/(fn+tp)\n",
    "    \n",
    "        score.append((t,tp,tn,fp,fn,fpr,tpr))\n",
    "\n",
    "    columns =['thresold','tp', 'tn', 'fp', 'fn','fpr','tpr']\n",
    "    df_scores = pd.DataFrame(score, columns = columns)\n",
    "    return df_scores"
   ]
  },
  {
   "cell_type": "code",
   "execution_count": 45,
   "id": "6daaf3d1-139f-4f18-ad15-4a169ddf44e8",
   "metadata": {},
   "outputs": [
    {
     "data": {
      "text/html": [
       "<div>\n",
       "<style scoped>\n",
       "    .dataframe tbody tr th:only-of-type {\n",
       "        vertical-align: middle;\n",
       "    }\n",
       "\n",
       "    .dataframe tbody tr th {\n",
       "        vertical-align: top;\n",
       "    }\n",
       "\n",
       "    .dataframe thead th {\n",
       "        text-align: right;\n",
       "    }\n",
       "</style>\n",
       "<table border=\"1\" class=\"dataframe\">\n",
       "  <thead>\n",
       "    <tr style=\"text-align: right;\">\n",
       "      <th></th>\n",
       "      <th>thresold</th>\n",
       "      <th>tp</th>\n",
       "      <th>tn</th>\n",
       "      <th>fp</th>\n",
       "      <th>fn</th>\n",
       "      <th>fpr</th>\n",
       "      <th>tpr</th>\n",
       "    </tr>\n",
       "  </thead>\n",
       "  <tbody>\n",
       "    <tr>\n",
       "      <th>0</th>\n",
       "      <td>0.0</td>\n",
       "      <td>1070</td>\n",
       "      <td>0</td>\n",
       "      <td>7972</td>\n",
       "      <td>0</td>\n",
       "      <td>1.000000</td>\n",
       "      <td>1.000000</td>\n",
       "    </tr>\n",
       "    <tr>\n",
       "      <th>10</th>\n",
       "      <td>0.1</td>\n",
       "      <td>1070</td>\n",
       "      <td>905</td>\n",
       "      <td>7067</td>\n",
       "      <td>0</td>\n",
       "      <td>0.886478</td>\n",
       "      <td>1.000000</td>\n",
       "    </tr>\n",
       "    <tr>\n",
       "      <th>20</th>\n",
       "      <td>0.2</td>\n",
       "      <td>1070</td>\n",
       "      <td>1809</td>\n",
       "      <td>6163</td>\n",
       "      <td>0</td>\n",
       "      <td>0.773081</td>\n",
       "      <td>1.000000</td>\n",
       "    </tr>\n",
       "    <tr>\n",
       "      <th>30</th>\n",
       "      <td>0.3</td>\n",
       "      <td>1070</td>\n",
       "      <td>2713</td>\n",
       "      <td>5259</td>\n",
       "      <td>0</td>\n",
       "      <td>0.659684</td>\n",
       "      <td>1.000000</td>\n",
       "    </tr>\n",
       "    <tr>\n",
       "      <th>40</th>\n",
       "      <td>0.4</td>\n",
       "      <td>1070</td>\n",
       "      <td>3617</td>\n",
       "      <td>4355</td>\n",
       "      <td>0</td>\n",
       "      <td>0.546287</td>\n",
       "      <td>1.000000</td>\n",
       "    </tr>\n",
       "    <tr>\n",
       "      <th>50</th>\n",
       "      <td>0.5</td>\n",
       "      <td>1070</td>\n",
       "      <td>4521</td>\n",
       "      <td>3451</td>\n",
       "      <td>0</td>\n",
       "      <td>0.432890</td>\n",
       "      <td>1.000000</td>\n",
       "    </tr>\n",
       "    <tr>\n",
       "      <th>60</th>\n",
       "      <td>0.6</td>\n",
       "      <td>1070</td>\n",
       "      <td>5425</td>\n",
       "      <td>2547</td>\n",
       "      <td>0</td>\n",
       "      <td>0.319493</td>\n",
       "      <td>1.000000</td>\n",
       "    </tr>\n",
       "    <tr>\n",
       "      <th>70</th>\n",
       "      <td>0.7</td>\n",
       "      <td>1070</td>\n",
       "      <td>6329</td>\n",
       "      <td>1643</td>\n",
       "      <td>0</td>\n",
       "      <td>0.206096</td>\n",
       "      <td>1.000000</td>\n",
       "    </tr>\n",
       "    <tr>\n",
       "      <th>80</th>\n",
       "      <td>0.8</td>\n",
       "      <td>1070</td>\n",
       "      <td>7233</td>\n",
       "      <td>739</td>\n",
       "      <td>0</td>\n",
       "      <td>0.092699</td>\n",
       "      <td>1.000000</td>\n",
       "    </tr>\n",
       "    <tr>\n",
       "      <th>90</th>\n",
       "      <td>0.9</td>\n",
       "      <td>905</td>\n",
       "      <td>7972</td>\n",
       "      <td>0</td>\n",
       "      <td>165</td>\n",
       "      <td>0.000000</td>\n",
       "      <td>0.845794</td>\n",
       "    </tr>\n",
       "    <tr>\n",
       "      <th>100</th>\n",
       "      <td>1.0</td>\n",
       "      <td>1</td>\n",
       "      <td>7972</td>\n",
       "      <td>0</td>\n",
       "      <td>1069</td>\n",
       "      <td>0.000000</td>\n",
       "      <td>0.000935</td>\n",
       "    </tr>\n",
       "  </tbody>\n",
       "</table>\n",
       "</div>"
      ],
      "text/plain": [
       "     thresold    tp    tn    fp    fn       fpr       tpr\n",
       "0         0.0  1070     0  7972     0  1.000000  1.000000\n",
       "10        0.1  1070   905  7067     0  0.886478  1.000000\n",
       "20        0.2  1070  1809  6163     0  0.773081  1.000000\n",
       "30        0.3  1070  2713  5259     0  0.659684  1.000000\n",
       "40        0.4  1070  3617  4355     0  0.546287  1.000000\n",
       "50        0.5  1070  4521  3451     0  0.432890  1.000000\n",
       "60        0.6  1070  5425  2547     0  0.319493  1.000000\n",
       "70        0.7  1070  6329  1643     0  0.206096  1.000000\n",
       "80        0.8  1070  7233   739     0  0.092699  1.000000\n",
       "90        0.9   905  7972     0   165  0.000000  0.845794\n",
       "100       1.0     1  7972     0  1069  0.000000  0.000935"
      ]
     },
     "execution_count": 45,
     "metadata": {},
     "output_type": "execute_result"
    }
   ],
   "source": [
    "df_ideal = tpr_fpr_df(y_ideal, y_ideal_pred)\n",
    "df_ideal[::10]"
   ]
  },
  {
   "cell_type": "code",
   "execution_count": 46,
   "id": "01ab8e7d-6e16-44d8-8063-6da4f547df7f",
   "metadata": {},
   "outputs": [
    {
     "data": {
      "image/png": "[encoded data removed]",
      "text/plain": [
       "<Figure size 640x480 with 1 Axes>"
      ]
     },
     "metadata": {},
     "output_type": "display_data"
    }
   ],
   "source": [
    "plt.plot(df_scores['thresold'], df_scores['tpr'], label ='TPR')\n",
    "plt.plot(df_scores['thresold'], df_scores['fpr'], label ='FPR')\n",
    "\n",
    "plt.plot(df_ideal['thresold'], df_ideal['tpr'], label ='TPR', color ='black')\n",
    "plt.plot(df_ideal['thresold'], df_ideal['fpr'], label ='FPR', color ='black')\n",
    "\n",
    "plt.xlabel('thresold')\n",
    "plt.ylabel('churning rate')\n",
    "plt.legend()\n",
    "plt.show();"
   ]
  },
  {
   "cell_type": "code",
   "execution_count": 47,
   "id": "b5a8c441-5c98-4759-b377-a9959a0d7f31",
   "metadata": {},
   "outputs": [
    {
     "data": {
      "image/png": "[encoded data removed]",
      "text/plain": [
       "<Figure size 500x500 with 1 Axes>"
      ]
     },
     "metadata": {},
     "output_type": "display_data"
    }
   ],
   "source": [
    "# ploting the roc auc\n",
    "\n",
    "plt.figure(figsize=(5,5))\n",
    "plt.plot(df_scores['fpr'], df_scores['tpr'], label = 'model')\n",
    "plt.plot([0,1], [0,1], label ='random', linestyle = '--') #random baseline\n",
    "# plt.plot(df_ideal['fpr'], df_ideal['tpr'], label = 'ideal') # ideal curve (impossible to reach)\n",
    "\n",
    "plt.xlabel('fpr')\n",
    "plt.ylabel('tpr')\n",
    "plt.legend()\n",
    "plt.show()\n"
   ]
  },
  {
   "cell_type": "code",
   "execution_count": 48,
   "id": "45887c27-c1ca-4efc-a5e9-269852721bf8",
   "metadata": {},
   "outputs": [
    {
     "data": {
      "image/png": "[encoded data removed]",
      "text/plain": [
       "<Figure size 500x500 with 1 Axes>"
      ]
     },
     "metadata": {},
     "output_type": "display_data"
    }
   ],
   "source": [
    "#  drawing the roc curve using a library (easy to use direct)\n",
    "\n",
    "from sklearn.metrics import roc_curve\n",
    "\n",
    "fpr,tpr, thresholds = roc_curve(y_val,y_pred)\n",
    "\n",
    "\n",
    "plt.figure(figsize=(5,5))\n",
    "plt.plot(fpr, tpr, label = 'model')\n",
    "plt.plot([0,1], [0,1], label ='random', linestyle = '--') #random baseline\n",
    "# plt.plot(df_ideal['fpr'], df_ideal['tpr'], label = 'ideal') # ideal curve (impossible to reach)\n",
    "\n",
    "plt.xlabel('fpr')\n",
    "plt.ylabel('tpr')\n",
    "plt.legend()\n",
    "plt.show()\n"
   ]
  },
  {
   "cell_type": "code",
   "execution_count": 49,
   "id": "704d8b86-9b6a-41ab-b873-7968b8d80e0c",
   "metadata": {},
   "outputs": [
    {
     "data": {
      "text/plain": [
       "0.9103719326052399"
      ]
     },
     "execution_count": 49,
     "metadata": {},
     "output_type": "execute_result"
    }
   ],
   "source": [
    "from sklearn.metrics import auc\n",
    "'''auc shows the percentage probability of correctness of any randomly \n",
    "selected positive customer(churn) has higher score than randomly selected\n",
    "negative sample''' \n",
    "\n",
    "auc(fpr,tpr)"
   ]
  },
  {
   "cell_type": "code",
   "execution_count": 50,
   "id": "90a72a94-db7a-4436-8a3f-ff78ae02fd0e",
   "metadata": {},
   "outputs": [
    {
     "data": {
      "text/plain": [
       "0.9102277949458618"
      ]
     },
     "execution_count": 50,
     "metadata": {},
     "output_type": "execute_result"
    }
   ],
   "source": [
    "# manually computed one very close to the library own\n",
    "auc(df_scores['fpr'], df_scores['tpr'])"
   ]
  },
  {
   "cell_type": "code",
   "execution_count": 51,
   "id": "9e66bf7d-23de-46d7-ba31-06be35ed44f7",
   "metadata": {},
   "outputs": [
    {
     "data": {
      "text/plain": [
       "['age', 'balance', 'day', 'duration', 'campaign', 'pdays', 'previous']"
      ]
     },
     "execution_count": 51,
     "metadata": {},
     "output_type": "execute_result"
    }
   ],
   "source": [
    "numerical"
   ]
  },
  {
   "cell_type": "code",
   "execution_count": 52,
   "id": "4bd03b92-1415-4ea8-8314-03a544216278",
   "metadata": {},
   "outputs": [
    {
     "data": {
      "text/plain": [
       "(27126, 45211)"
      ]
     },
     "execution_count": 52,
     "metadata": {},
     "output_type": "execute_result"
    }
   ],
   "source": [
    "len(y_train), len(df['age'])"
   ]
  },
  {
   "cell_type": "code",
   "execution_count": 71,
   "id": "da000062-a922-4b98-9f96-ab2bc9dde457",
   "metadata": {},
   "outputs": [
    {
     "data": {
      "text/plain": [
       "'age'"
      ]
     },
     "metadata": {},
     "output_type": "display_data"
    },
    {
     "data": {
      "text/plain": [
       "0.5072154616891561"
      ]
     },
     "metadata": {},
     "output_type": "display_data"
    },
    {
     "data": {
      "text/plain": [
       "'balance'"
      ]
     },
     "metadata": {},
     "output_type": "display_data"
    },
    {
     "data": {
      "text/plain": [
       "0.4131681090112155"
      ]
     },
     "metadata": {},
     "output_type": "display_data"
    },
    {
     "data": {
      "text/plain": [
       "'day'"
      ]
     },
     "metadata": {},
     "output_type": "display_data"
    },
    {
     "data": {
      "text/plain": [
       "0.5250167906149042"
      ]
     },
     "metadata": {},
     "output_type": "display_data"
    },
    {
     "data": {
      "text/plain": [
       "'duration'"
      ]
     },
     "metadata": {},
     "output_type": "display_data"
    },
    {
     "data": {
      "text/plain": [
       "0.1934369157787872"
      ]
     },
     "metadata": {},
     "output_type": "display_data"
    },
    {
     "data": {
      "text/plain": [
       "'campaign'"
      ]
     },
     "metadata": {},
     "output_type": "display_data"
    },
    {
     "data": {
      "text/plain": [
       "0.5682816518810498"
      ]
     },
     "metadata": {},
     "output_type": "display_data"
    },
    {
     "data": {
      "text/plain": [
       "'pdays'"
      ]
     },
     "metadata": {},
     "output_type": "display_data"
    },
    {
     "data": {
      "text/plain": [
       "0.40591021118767584"
      ]
     },
     "metadata": {},
     "output_type": "display_data"
    },
    {
     "data": {
      "text/plain": [
       "'previous'"
      ]
     },
     "metadata": {},
     "output_type": "display_data"
    },
    {
     "data": {
      "text/plain": [
       "0.39655426581797404"
      ]
     },
     "metadata": {},
     "output_type": "display_data"
    }
   ],
   "source": [
    "\n",
    "for i in numerical:\n",
    "    fpr1,tpr1, threshold1 = roc_curve(y_train, -df_train[i])\n",
    "    display (i, auc(fpr1,tpr1))"
   ]
  },
  {
   "cell_type": "markdown",
   "id": "87c4384a-407b-4d94-bfca-457b791595e9",
   "metadata": {},
   "source": [
    "### Cross validation "
   ]
  },
  {
   "cell_type": "code",
   "execution_count": 94,
   "id": "cc30e0b5-a794-473c-bc2e-b414be3dbbd8",
   "metadata": {},
   "outputs": [],
   "source": [
    "def train(df_train, y_train, C=1.0):\n",
    "    dicts = df_train[categorical + numerical].to_dict(orient = 'records')\n",
    "\n",
    "    dv =DictVectorizer(sparse=False)\n",
    "    X_train = dv.fit_transform(dicts)\n",
    "\n",
    "    model = LogisticRegression(C=C, max_iter =1000).fit(X_train, y_train)\n",
    "\n",
    "    return dv , model"
   ]
  },
  {
   "cell_type": "code",
   "execution_count": 95,
   "id": "09a5e9d9-b879-4379-8688-edc6cae00809",
   "metadata": {},
   "outputs": [],
   "source": [
    "dv, model =train(df_train, y_train,C=0.001)"
   ]
  },
  {
   "cell_type": "code",
   "execution_count": 81,
   "id": "bf1d190a-3fac-4073-8151-82828468e578",
   "metadata": {},
   "outputs": [],
   "source": [
    "def predict(df, dv, y_train):\n",
    "    dicts = df[categorical + numerical].to_dict(orient = 'records')\n",
    "\n",
    "    X = dv.transform(dicts)\n",
    "    y_pred = model.predict_proba(X)[:,1]\n",
    "\n",
    "    return y_pred"
   ]
  },
  {
   "cell_type": "code",
   "execution_count": 82,
   "id": "89e9c30d-d201-45df-b676-db8b09e28b40",
   "metadata": {},
   "outputs": [],
   "source": [
    "y_pred = predict(df_val, dv, model)"
   ]
  },
  {
   "cell_type": "code",
   "execution_count": 96,
   "id": "16f71dbe-7fc4-44b7-a693-f91bdcbfb4d5",
   "metadata": {},
   "outputs": [],
   "source": [
    "from sklearn.model_selection import KFold\n",
    "\n",
    "kfold = KFold(n_splits = 5, shuffle=True, random_state =1)"
   ]
  },
  {
   "cell_type": "code",
   "execution_count": 97,
   "id": "bbf09286-a4f1-4dd6-980f-7f21e5ee0e9f",
   "metadata": {},
   "outputs": [
    {
     "data": {
      "text/plain": [
       "(28934, 7234)"
      ]
     },
     "execution_count": 97,
     "metadata": {},
     "output_type": "execute_result"
    }
   ],
   "source": [
    "train_idx, val_idx = next(kfold.split(df_full_train))\n",
    "len(train_idx), len(val_idx)"
   ]
  },
  {
   "cell_type": "code",
   "execution_count": 98,
   "id": "4e46761e-ac80-4301-a6ee-ced482d21372",
   "metadata": {},
   "outputs": [],
   "source": [
    "from sklearn.metrics import roc_auc_score"
   ]
  },
  {
   "cell_type": "code",
   "execution_count": 89,
   "id": "0107096b-0cf4-4d2d-9020-41415cf8fbb4",
   "metadata": {},
   "outputs": [
    {
     "name": "stdout",
     "output_type": "stream",
     "text": [
      "Requirement already satisfied: tqdm in c:\\users\\woyes\\anaconda3\\envs\\arewa_datascience\\lib\\site-packages (4.66.4)\n",
      "Requirement already satisfied: colorama in c:\\users\\woyes\\anaconda3\\envs\\arewa_datascience\\lib\\site-packages (from tqdm) (0.4.6)\n"
     ]
    }
   ],
   "source": [
    "!pip install tqdm"
   ]
  },
  {
   "cell_type": "code",
   "execution_count": 90,
   "id": "d9a68b89-5296-4e9d-9179-f1dd79c0188b",
   "metadata": {},
   "outputs": [],
   "source": [
    "from tqdm.auto import tqdm"
   ]
  },
  {
   "cell_type": "code",
   "execution_count": 103,
   "id": "48acc1dd-8045-4044-82d6-ba6498e8b64e",
   "metadata": {},
   "outputs": [
    {
     "data": {
      "application/vnd.jupyter.widget-view+json": {
       "model_id": "8b2e2ddacdc84a03bb2d92e1574cc0ad",
       "version_major": 2,
       "version_minor": 0
      },
      "text/plain": [
       "  0%|          | 0/5 [00:00<?, ?it/s]"
      ]
     },
     "metadata": {},
     "output_type": "display_data"
    },
    {
     "name": "stdout",
     "output_type": "stream",
     "text": [
      "C=1e-06 0.822 +- 0.005\n"
     ]
    },
    {
     "data": {
      "application/vnd.jupyter.widget-view+json": {
       "model_id": "8d271cebff2a483385a737ab9a586bb4",
       "version_major": 2,
       "version_minor": 0
      },
      "text/plain": [
       "  0%|          | 0/5 [00:00<?, ?it/s]"
      ]
     },
     "metadata": {},
     "output_type": "display_data"
    },
    {
     "name": "stdout",
     "output_type": "stream",
     "text": [
      "C=0.001 0.885 +- 0.007\n"
     ]
    },
    {
     "data": {
      "application/vnd.jupyter.widget-view+json": {
       "model_id": "bd248785e0a44444ae207f843c0bc388",
       "version_major": 2,
       "version_minor": 0
      },
      "text/plain": [
       "  0%|          | 0/5 [00:00<?, ?it/s]"
      ]
     },
     "metadata": {},
     "output_type": "display_data"
    },
    {
     "name": "stdout",
     "output_type": "stream",
     "text": [
      "C=1 0.901 +- 0.008\n"
     ]
    }
   ],
   "source": [
    "n_splits =5\n",
    "for C in [0.000001, 0.001, 1]:\n",
    "    \n",
    "\n",
    "    scores = []\n",
    "    \n",
    "    for train_idx, val_idx in tqdm(kfold.split(df_full_train), total = n_splits):\n",
    "        df_train = df_full_train.iloc[train_idx]\n",
    "        df_val = df_full_train.iloc[val_idx]\n",
    "    \n",
    "        y_train = df_train['y'].values\n",
    "        y_val = df_val['y'].values\n",
    "    \n",
    "        dv, model = train(df_train,y_train, C=C )\n",
    "        y_pred = predict(df_val, dv, model)\n",
    "    \n",
    "        auc = roc_auc_score(y_val, y_pred)\n",
    "        scores.append(auc)\n",
    "    print('C=%s %.3f +- %.3f' % (C,np.mean(scores), np.std(scores)))"
   ]
  },
  {
   "cell_type": "code",
   "execution_count": 105,
   "id": "2be84509-1cfb-4738-8966-49ebb0682545",
   "metadata": {},
   "outputs": [
    {
     "data": {
      "text/plain": [
       "0.8938033563433764"
      ]
     },
     "execution_count": 105,
     "metadata": {},
     "output_type": "execute_result"
    }
   ],
   "source": [
    "dv, model = train(df_full_train, df_full_train['y'].values, C=1.0 )\n",
    "y_pred = predict(df_test, dv, model)\n",
    "\n",
    "auc = roc_auc_score(y_test, y_pred)\n",
    "auc"
   ]
  },
  {
   "cell_type": "code",
   "execution_count": 101,
   "id": "b7be78fc-5776-4b00-a6e4-d6e3db03b423",
   "metadata": {},
   "outputs": [
    {
     "data": {
      "text/plain": [
       "(0.9011981976546029, 0.008222324012754498)"
      ]
     },
     "execution_count": 101,
     "metadata": {},
     "output_type": "execute_result"
    }
   ],
   "source": [
    "np.mean(scores), np.std(scores)"
   ]
  },
  {
   "cell_type": "code",
   "execution_count": null,
   "id": "7c7b8b1b-73fa-437e-8be7-1f2fa919efb4",
   "metadata": {},
   "outputs": [],
   "source": []
  }
 ],
 "metadata": {
  "kernelspec": {
   "display_name": "Python 3 (ipykernel)",
   "language": "python",
   "name": "python3"
  },
  "language_info": {
   "codemirror_mode": {
    "name": "ipython",
    "version": 3
   },
   "file_extension": ".py",
   "mimetype": "text/x-python",
   "name": "python",
   "nbconvert_exporter": "python",
   "pygments_lexer": "ipython3",
   "version": "3.8.18"
  }
 },
 "nbformat": 4,
 "nbformat_minor": 5
}
