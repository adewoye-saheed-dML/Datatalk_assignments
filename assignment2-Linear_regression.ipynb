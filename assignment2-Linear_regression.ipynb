{
 "cells": [
  {
   "cell_type": "markdown",
   "id": "3d4d5d9c-813b-484c-b167-a30bd2720c80",
   "metadata": {},
   "source": [
    "# Datatalk Assignment: 2"
   ]
  },
  {
   "cell_type": "code",
   "execution_count": 1,
   "id": "4cc2853a-f7f5-4c3f-9be7-e43c3f6ec991",
   "metadata": {},
   "outputs": [],
   "source": [
    "# importing the necessarry libraries\n",
    "import numpy as np\n",
    "import pandas as pd\n",
    "import seaborn as sns"
   ]
  },
  {
   "cell_type": "markdown",
   "id": "fcb2cac9-8382-49e2-933f-f1144da741e0",
   "metadata": {},
   "source": [
    "### Preparing the dataset"
   ]
  },
  {
   "cell_type": "code",
   "execution_count": 2,
   "id": "88231a04-1abc-4c4e-b2e7-64cb732e5431",
   "metadata": {
    "scrolled": true
   },
   "outputs": [
    {
     "data": {
      "text/html": [
       "<div>\n",
       "<style scoped>\n",
       "    .dataframe tbody tr th:only-of-type {\n",
       "        vertical-align: middle;\n",
       "    }\n",
       "\n",
       "    .dataframe tbody tr th {\n",
       "        vertical-align: top;\n",
       "    }\n",
       "\n",
       "    .dataframe thead th {\n",
       "        text-align: right;\n",
       "    }\n",
       "</style>\n",
       "<table border=\"1\" class=\"dataframe\">\n",
       "  <thead>\n",
       "    <tr style=\"text-align: right;\">\n",
       "      <th></th>\n",
       "      <th>Laptop</th>\n",
       "      <th>Status</th>\n",
       "      <th>Brand</th>\n",
       "      <th>Model</th>\n",
       "      <th>CPU</th>\n",
       "      <th>RAM</th>\n",
       "      <th>Storage</th>\n",
       "      <th>Storage type</th>\n",
       "      <th>GPU</th>\n",
       "      <th>Screen</th>\n",
       "      <th>Touch</th>\n",
       "      <th>Final Price</th>\n",
       "    </tr>\n",
       "  </thead>\n",
       "  <tbody>\n",
       "    <tr>\n",
       "      <th>0</th>\n",
       "      <td>ASUS ExpertBook B1 B1502CBA-EJ0436X Intel Core...</td>\n",
       "      <td>New</td>\n",
       "      <td>Asus</td>\n",
       "      <td>ExpertBook</td>\n",
       "      <td>Intel Core i5</td>\n",
       "      <td>8</td>\n",
       "      <td>512</td>\n",
       "      <td>SSD</td>\n",
       "      <td>NaN</td>\n",
       "      <td>15.6</td>\n",
       "      <td>No</td>\n",
       "      <td>1009.00</td>\n",
       "    </tr>\n",
       "    <tr>\n",
       "      <th>1</th>\n",
       "      <td>Alurin Go Start Intel Celeron N4020/8GB/256GB ...</td>\n",
       "      <td>New</td>\n",
       "      <td>Alurin</td>\n",
       "      <td>Go</td>\n",
       "      <td>Intel Celeron</td>\n",
       "      <td>8</td>\n",
       "      <td>256</td>\n",
       "      <td>SSD</td>\n",
       "      <td>NaN</td>\n",
       "      <td>15.6</td>\n",
       "      <td>No</td>\n",
       "      <td>299.00</td>\n",
       "    </tr>\n",
       "    <tr>\n",
       "      <th>2</th>\n",
       "      <td>ASUS ExpertBook B1 B1502CBA-EJ0424X Intel Core...</td>\n",
       "      <td>New</td>\n",
       "      <td>Asus</td>\n",
       "      <td>ExpertBook</td>\n",
       "      <td>Intel Core i3</td>\n",
       "      <td>8</td>\n",
       "      <td>256</td>\n",
       "      <td>SSD</td>\n",
       "      <td>NaN</td>\n",
       "      <td>15.6</td>\n",
       "      <td>No</td>\n",
       "      <td>789.00</td>\n",
       "    </tr>\n",
       "    <tr>\n",
       "      <th>3</th>\n",
       "      <td>MSI Katana GF66 12UC-082XES Intel Core i7-1270...</td>\n",
       "      <td>New</td>\n",
       "      <td>MSI</td>\n",
       "      <td>Katana</td>\n",
       "      <td>Intel Core i7</td>\n",
       "      <td>16</td>\n",
       "      <td>1000</td>\n",
       "      <td>SSD</td>\n",
       "      <td>RTX 3050</td>\n",
       "      <td>15.6</td>\n",
       "      <td>No</td>\n",
       "      <td>1199.00</td>\n",
       "    </tr>\n",
       "    <tr>\n",
       "      <th>4</th>\n",
       "      <td>HP 15S-FQ5085NS Intel Core i5-1235U/16GB/512GB...</td>\n",
       "      <td>New</td>\n",
       "      <td>HP</td>\n",
       "      <td>15S</td>\n",
       "      <td>Intel Core i5</td>\n",
       "      <td>16</td>\n",
       "      <td>512</td>\n",
       "      <td>SSD</td>\n",
       "      <td>NaN</td>\n",
       "      <td>15.6</td>\n",
       "      <td>No</td>\n",
       "      <td>669.01</td>\n",
       "    </tr>\n",
       "  </tbody>\n",
       "</table>\n",
       "</div>"
      ],
      "text/plain": [
       "                                              Laptop Status   Brand  \\\n",
       "0  ASUS ExpertBook B1 B1502CBA-EJ0436X Intel Core...    New    Asus   \n",
       "1  Alurin Go Start Intel Celeron N4020/8GB/256GB ...    New  Alurin   \n",
       "2  ASUS ExpertBook B1 B1502CBA-EJ0424X Intel Core...    New    Asus   \n",
       "3  MSI Katana GF66 12UC-082XES Intel Core i7-1270...    New     MSI   \n",
       "4  HP 15S-FQ5085NS Intel Core i5-1235U/16GB/512GB...    New      HP   \n",
       "\n",
       "        Model            CPU  RAM  Storage Storage type       GPU  Screen  \\\n",
       "0  ExpertBook  Intel Core i5    8      512          SSD       NaN    15.6   \n",
       "1          Go  Intel Celeron    8      256          SSD       NaN    15.6   \n",
       "2  ExpertBook  Intel Core i3    8      256          SSD       NaN    15.6   \n",
       "3      Katana  Intel Core i7   16     1000          SSD  RTX 3050    15.6   \n",
       "4         15S  Intel Core i5   16      512          SSD       NaN    15.6   \n",
       "\n",
       "  Touch  Final Price  \n",
       "0    No      1009.00  \n",
       "1    No       299.00  \n",
       "2    No       789.00  \n",
       "3    No      1199.00  \n",
       "4    No       669.01  "
      ]
     },
     "execution_count": 2,
     "metadata": {},
     "output_type": "execute_result"
    }
   ],
   "source": [
    "# read the dataset\n",
    "df = pd.read_csv('C:/Users/WOYES/Desktop/laptops.csv')\n",
    "\n",
    "df.head()"
   ]
  },
  {
   "cell_type": "code",
   "execution_count": 3,
   "id": "b00cc746-f32e-4b54-8d23-8e5e2725da92",
   "metadata": {},
   "outputs": [
    {
     "data": {
      "text/html": [
       "<div>\n",
       "<style scoped>\n",
       "    .dataframe tbody tr th:only-of-type {\n",
       "        vertical-align: middle;\n",
       "    }\n",
       "\n",
       "    .dataframe tbody tr th {\n",
       "        vertical-align: top;\n",
       "    }\n",
       "\n",
       "    .dataframe thead th {\n",
       "        text-align: right;\n",
       "    }\n",
       "</style>\n",
       "<table border=\"1\" class=\"dataframe\">\n",
       "  <thead>\n",
       "    <tr style=\"text-align: right;\">\n",
       "      <th></th>\n",
       "      <th>laptop</th>\n",
       "      <th>status</th>\n",
       "      <th>brand</th>\n",
       "      <th>model</th>\n",
       "      <th>cpu</th>\n",
       "      <th>ram</th>\n",
       "      <th>storage</th>\n",
       "      <th>storage_type</th>\n",
       "      <th>gpu</th>\n",
       "      <th>screen</th>\n",
       "      <th>touch</th>\n",
       "      <th>final_price</th>\n",
       "    </tr>\n",
       "  </thead>\n",
       "  <tbody>\n",
       "    <tr>\n",
       "      <th>0</th>\n",
       "      <td>ASUS ExpertBook B1 B1502CBA-EJ0436X Intel Core...</td>\n",
       "      <td>New</td>\n",
       "      <td>Asus</td>\n",
       "      <td>ExpertBook</td>\n",
       "      <td>Intel Core i5</td>\n",
       "      <td>8</td>\n",
       "      <td>512</td>\n",
       "      <td>SSD</td>\n",
       "      <td>NaN</td>\n",
       "      <td>15.6</td>\n",
       "      <td>No</td>\n",
       "      <td>1009.00</td>\n",
       "    </tr>\n",
       "    <tr>\n",
       "      <th>1</th>\n",
       "      <td>Alurin Go Start Intel Celeron N4020/8GB/256GB ...</td>\n",
       "      <td>New</td>\n",
       "      <td>Alurin</td>\n",
       "      <td>Go</td>\n",
       "      <td>Intel Celeron</td>\n",
       "      <td>8</td>\n",
       "      <td>256</td>\n",
       "      <td>SSD</td>\n",
       "      <td>NaN</td>\n",
       "      <td>15.6</td>\n",
       "      <td>No</td>\n",
       "      <td>299.00</td>\n",
       "    </tr>\n",
       "    <tr>\n",
       "      <th>2</th>\n",
       "      <td>ASUS ExpertBook B1 B1502CBA-EJ0424X Intel Core...</td>\n",
       "      <td>New</td>\n",
       "      <td>Asus</td>\n",
       "      <td>ExpertBook</td>\n",
       "      <td>Intel Core i3</td>\n",
       "      <td>8</td>\n",
       "      <td>256</td>\n",
       "      <td>SSD</td>\n",
       "      <td>NaN</td>\n",
       "      <td>15.6</td>\n",
       "      <td>No</td>\n",
       "      <td>789.00</td>\n",
       "    </tr>\n",
       "    <tr>\n",
       "      <th>3</th>\n",
       "      <td>MSI Katana GF66 12UC-082XES Intel Core i7-1270...</td>\n",
       "      <td>New</td>\n",
       "      <td>MSI</td>\n",
       "      <td>Katana</td>\n",
       "      <td>Intel Core i7</td>\n",
       "      <td>16</td>\n",
       "      <td>1000</td>\n",
       "      <td>SSD</td>\n",
       "      <td>RTX 3050</td>\n",
       "      <td>15.6</td>\n",
       "      <td>No</td>\n",
       "      <td>1199.00</td>\n",
       "    </tr>\n",
       "    <tr>\n",
       "      <th>4</th>\n",
       "      <td>HP 15S-FQ5085NS Intel Core i5-1235U/16GB/512GB...</td>\n",
       "      <td>New</td>\n",
       "      <td>HP</td>\n",
       "      <td>15S</td>\n",
       "      <td>Intel Core i5</td>\n",
       "      <td>16</td>\n",
       "      <td>512</td>\n",
       "      <td>SSD</td>\n",
       "      <td>NaN</td>\n",
       "      <td>15.6</td>\n",
       "      <td>No</td>\n",
       "      <td>669.01</td>\n",
       "    </tr>\n",
       "  </tbody>\n",
       "</table>\n",
       "</div>"
      ],
      "text/plain": [
       "                                              laptop status   brand  \\\n",
       "0  ASUS ExpertBook B1 B1502CBA-EJ0436X Intel Core...    New    Asus   \n",
       "1  Alurin Go Start Intel Celeron N4020/8GB/256GB ...    New  Alurin   \n",
       "2  ASUS ExpertBook B1 B1502CBA-EJ0424X Intel Core...    New    Asus   \n",
       "3  MSI Katana GF66 12UC-082XES Intel Core i7-1270...    New     MSI   \n",
       "4  HP 15S-FQ5085NS Intel Core i5-1235U/16GB/512GB...    New      HP   \n",
       "\n",
       "        model            cpu  ram  storage storage_type       gpu  screen  \\\n",
       "0  ExpertBook  Intel Core i5    8      512          SSD       NaN    15.6   \n",
       "1          Go  Intel Celeron    8      256          SSD       NaN    15.6   \n",
       "2  ExpertBook  Intel Core i3    8      256          SSD       NaN    15.6   \n",
       "3      Katana  Intel Core i7   16     1000          SSD  RTX 3050    15.6   \n",
       "4         15S  Intel Core i5   16      512          SSD       NaN    15.6   \n",
       "\n",
       "  touch  final_price  \n",
       "0    No      1009.00  \n",
       "1    No       299.00  \n",
       "2    No       789.00  \n",
       "3    No      1199.00  \n",
       "4    No       669.01  "
      ]
     },
     "execution_count": 3,
     "metadata": {},
     "output_type": "execute_result"
    }
   ],
   "source": [
    "# normalizing the columns names\n",
    "df.columns=df.columns.str.lower().str.replace(' ','_')\n",
    "df.head()"
   ]
  },
  {
   "cell_type": "code",
   "execution_count": 4,
   "id": "6c610ac5-1ea4-49c0-981a-3f440da5df2a",
   "metadata": {},
   "outputs": [
    {
     "data": {
      "text/html": [
       "<div>\n",
       "<style scoped>\n",
       "    .dataframe tbody tr th:only-of-type {\n",
       "        vertical-align: middle;\n",
       "    }\n",
       "\n",
       "    .dataframe tbody tr th {\n",
       "        vertical-align: top;\n",
       "    }\n",
       "\n",
       "    .dataframe thead th {\n",
       "        text-align: right;\n",
       "    }\n",
       "</style>\n",
       "<table border=\"1\" class=\"dataframe\">\n",
       "  <thead>\n",
       "    <tr style=\"text-align: right;\">\n",
       "      <th></th>\n",
       "      <th>ram</th>\n",
       "      <th>storage</th>\n",
       "      <th>screen</th>\n",
       "      <th>final_price</th>\n",
       "    </tr>\n",
       "  </thead>\n",
       "  <tbody>\n",
       "    <tr>\n",
       "      <th>0</th>\n",
       "      <td>8</td>\n",
       "      <td>512</td>\n",
       "      <td>15.6</td>\n",
       "      <td>1009.00</td>\n",
       "    </tr>\n",
       "    <tr>\n",
       "      <th>1</th>\n",
       "      <td>8</td>\n",
       "      <td>256</td>\n",
       "      <td>15.6</td>\n",
       "      <td>299.00</td>\n",
       "    </tr>\n",
       "    <tr>\n",
       "      <th>2</th>\n",
       "      <td>8</td>\n",
       "      <td>256</td>\n",
       "      <td>15.6</td>\n",
       "      <td>789.00</td>\n",
       "    </tr>\n",
       "    <tr>\n",
       "      <th>3</th>\n",
       "      <td>16</td>\n",
       "      <td>1000</td>\n",
       "      <td>15.6</td>\n",
       "      <td>1199.00</td>\n",
       "    </tr>\n",
       "    <tr>\n",
       "      <th>4</th>\n",
       "      <td>16</td>\n",
       "      <td>512</td>\n",
       "      <td>15.6</td>\n",
       "      <td>669.01</td>\n",
       "    </tr>\n",
       "    <tr>\n",
       "      <th>...</th>\n",
       "      <td>...</td>\n",
       "      <td>...</td>\n",
       "      <td>...</td>\n",
       "      <td>...</td>\n",
       "    </tr>\n",
       "    <tr>\n",
       "      <th>2155</th>\n",
       "      <td>16</td>\n",
       "      <td>1000</td>\n",
       "      <td>17.3</td>\n",
       "      <td>2699.99</td>\n",
       "    </tr>\n",
       "    <tr>\n",
       "      <th>2156</th>\n",
       "      <td>16</td>\n",
       "      <td>1000</td>\n",
       "      <td>17.3</td>\n",
       "      <td>2899.99</td>\n",
       "    </tr>\n",
       "    <tr>\n",
       "      <th>2157</th>\n",
       "      <td>32</td>\n",
       "      <td>1000</td>\n",
       "      <td>17.3</td>\n",
       "      <td>3399.99</td>\n",
       "    </tr>\n",
       "    <tr>\n",
       "      <th>2158</th>\n",
       "      <td>16</td>\n",
       "      <td>1000</td>\n",
       "      <td>13.4</td>\n",
       "      <td>1899.99</td>\n",
       "    </tr>\n",
       "    <tr>\n",
       "      <th>2159</th>\n",
       "      <td>16</td>\n",
       "      <td>256</td>\n",
       "      <td>13.4</td>\n",
       "      <td>1699.99</td>\n",
       "    </tr>\n",
       "  </tbody>\n",
       "</table>\n",
       "<p>2160 rows × 4 columns</p>\n",
       "</div>"
      ],
      "text/plain": [
       "      ram  storage  screen  final_price\n",
       "0       8      512    15.6      1009.00\n",
       "1       8      256    15.6       299.00\n",
       "2       8      256    15.6       789.00\n",
       "3      16     1000    15.6      1199.00\n",
       "4      16      512    15.6       669.01\n",
       "...   ...      ...     ...          ...\n",
       "2155   16     1000    17.3      2699.99\n",
       "2156   16     1000    17.3      2899.99\n",
       "2157   32     1000    17.3      3399.99\n",
       "2158   16     1000    13.4      1899.99\n",
       "2159   16      256    13.4      1699.99\n",
       "\n",
       "[2160 rows x 4 columns]"
      ]
     },
     "execution_count": 4,
     "metadata": {},
     "output_type": "execute_result"
    }
   ],
   "source": [
    "# dff missing values would be replaced by zero\n",
    "dff=df[['ram','storage','screen','final_price']]\n",
    "dff"
   ]
  },
  {
   "cell_type": "code",
   "execution_count": 5,
   "id": "0c3808db-9397-4823-b2e9-c8e22602c1a0",
   "metadata": {},
   "outputs": [
    {
     "data": {
      "text/html": [
       "<div>\n",
       "<style scoped>\n",
       "    .dataframe tbody tr th:only-of-type {\n",
       "        vertical-align: middle;\n",
       "    }\n",
       "\n",
       "    .dataframe tbody tr th {\n",
       "        vertical-align: top;\n",
       "    }\n",
       "\n",
       "    .dataframe thead th {\n",
       "        text-align: right;\n",
       "    }\n",
       "</style>\n",
       "<table border=\"1\" class=\"dataframe\">\n",
       "  <thead>\n",
       "    <tr style=\"text-align: right;\">\n",
       "      <th></th>\n",
       "      <th>ram</th>\n",
       "      <th>storage</th>\n",
       "      <th>screen</th>\n",
       "      <th>final_price</th>\n",
       "    </tr>\n",
       "  </thead>\n",
       "  <tbody>\n",
       "    <tr>\n",
       "      <th>0</th>\n",
       "      <td>8</td>\n",
       "      <td>512</td>\n",
       "      <td>15.6</td>\n",
       "      <td>1009.00</td>\n",
       "    </tr>\n",
       "    <tr>\n",
       "      <th>1</th>\n",
       "      <td>8</td>\n",
       "      <td>256</td>\n",
       "      <td>15.6</td>\n",
       "      <td>299.00</td>\n",
       "    </tr>\n",
       "    <tr>\n",
       "      <th>2</th>\n",
       "      <td>8</td>\n",
       "      <td>256</td>\n",
       "      <td>15.6</td>\n",
       "      <td>789.00</td>\n",
       "    </tr>\n",
       "    <tr>\n",
       "      <th>3</th>\n",
       "      <td>16</td>\n",
       "      <td>1000</td>\n",
       "      <td>15.6</td>\n",
       "      <td>1199.00</td>\n",
       "    </tr>\n",
       "    <tr>\n",
       "      <th>4</th>\n",
       "      <td>16</td>\n",
       "      <td>512</td>\n",
       "      <td>15.6</td>\n",
       "      <td>669.01</td>\n",
       "    </tr>\n",
       "    <tr>\n",
       "      <th>...</th>\n",
       "      <td>...</td>\n",
       "      <td>...</td>\n",
       "      <td>...</td>\n",
       "      <td>...</td>\n",
       "    </tr>\n",
       "    <tr>\n",
       "      <th>2155</th>\n",
       "      <td>16</td>\n",
       "      <td>1000</td>\n",
       "      <td>17.3</td>\n",
       "      <td>2699.99</td>\n",
       "    </tr>\n",
       "    <tr>\n",
       "      <th>2156</th>\n",
       "      <td>16</td>\n",
       "      <td>1000</td>\n",
       "      <td>17.3</td>\n",
       "      <td>2899.99</td>\n",
       "    </tr>\n",
       "    <tr>\n",
       "      <th>2157</th>\n",
       "      <td>32</td>\n",
       "      <td>1000</td>\n",
       "      <td>17.3</td>\n",
       "      <td>3399.99</td>\n",
       "    </tr>\n",
       "    <tr>\n",
       "      <th>2158</th>\n",
       "      <td>16</td>\n",
       "      <td>1000</td>\n",
       "      <td>13.4</td>\n",
       "      <td>1899.99</td>\n",
       "    </tr>\n",
       "    <tr>\n",
       "      <th>2159</th>\n",
       "      <td>16</td>\n",
       "      <td>256</td>\n",
       "      <td>13.4</td>\n",
       "      <td>1699.99</td>\n",
       "    </tr>\n",
       "  </tbody>\n",
       "</table>\n",
       "<p>2160 rows × 4 columns</p>\n",
       "</div>"
      ],
      "text/plain": [
       "      ram  storage  screen  final_price\n",
       "0       8      512    15.6      1009.00\n",
       "1       8      256    15.6       299.00\n",
       "2       8      256    15.6       789.00\n",
       "3      16     1000    15.6      1199.00\n",
       "4      16      512    15.6       669.01\n",
       "...   ...      ...     ...          ...\n",
       "2155   16     1000    17.3      2699.99\n",
       "2156   16     1000    17.3      2899.99\n",
       "2157   32     1000    17.3      3399.99\n",
       "2158   16     1000    13.4      1899.99\n",
       "2159   16      256    13.4      1699.99\n",
       "\n",
       "[2160 rows x 4 columns]"
      ]
     },
     "execution_count": 5,
     "metadata": {},
     "output_type": "execute_result"
    }
   ],
   "source": [
    "# dfm missing values would be replaced by mean value\n",
    "dfm=df[['ram','storage','screen','final_price']]\n",
    "dfm"
   ]
  },
  {
   "cell_type": "code",
   "execution_count": 6,
   "id": "d3d9c6a0-4840-464b-a6e9-85727392cf15",
   "metadata": {
    "scrolled": true
   },
   "outputs": [
    {
     "data": {
      "text/plain": [
       "<Axes: xlabel='final_price', ylabel='Count'>"
      ]
     },
     "execution_count": 6,
     "metadata": {},
     "output_type": "execute_result"
    },
    {
     "data": {
      "image/png": "[encoded data removed]",
      "text/plain": [
       "<Figure size 640x480 with 1 Axes>"
      ]
     },
     "metadata": {},
     "output_type": "display_data"
    }
   ],
   "source": [
    "sns.histplot(dff['final_price'])"
   ]
  },
  {
   "cell_type": "code",
   "execution_count": 7,
   "id": "44e31dfb-c429-478d-a7a0-952bbf18141c",
   "metadata": {},
   "outputs": [
    {
     "data": {
      "text/plain": [
       "<Axes: xlabel='final_price', ylabel='Count'>"
      ]
     },
     "execution_count": 7,
     "metadata": {},
     "output_type": "execute_result"
    },
    {
     "data": {
      "image/png": "[encoded data removed]",
      "text/plain": [
       "<Figure size 640x480 with 1 Axes>"
      ]
     },
     "metadata": {},
     "output_type": "display_data"
    }
   ],
   "source": [
    "# transforming the price using log transformation\n",
    "\n",
    "price_logs = np.log1p(dff['final_price'])\n",
    "sns.histplot(price_logs, bins=50)"
   ]
  },
  {
   "cell_type": "code",
   "execution_count": 8,
   "id": "9cc0e565-41b2-4420-8fce-5aa47f631b4e",
   "metadata": {
    "scrolled": true
   },
   "outputs": [
    {
     "data": {
      "text/plain": [
       "ram            0\n",
       "storage        0\n",
       "screen         4\n",
       "final_price    0\n",
       "dtype: int64"
      ]
     },
     "execution_count": 8,
     "metadata": {},
     "output_type": "execute_result"
    }
   ],
   "source": [
    "# checking the missing value in the dff dataset\n",
    "dff.isnull().sum()"
   ]
  },
  {
   "cell_type": "code",
   "execution_count": 9,
   "id": "c613f9b6-42fc-48da-8558-37b88cf2ac2f",
   "metadata": {},
   "outputs": [
    {
     "data": {
      "text/plain": [
       "ram            0\n",
       "storage        0\n",
       "screen         4\n",
       "final_price    0\n",
       "dtype: int64"
      ]
     },
     "execution_count": 9,
     "metadata": {},
     "output_type": "execute_result"
    }
   ],
   "source": [
    "# checking missing value in the dfm dataset\n",
    "dfm.isnull().sum()"
   ]
  },
  {
   "cell_type": "code",
   "execution_count": 10,
   "id": "a7cafcb7-0804-4e78-8c15-b153fd8855fb",
   "metadata": {
    "scrolled": true
   },
   "outputs": [
    {
     "data": {
      "text/html": [
       "<div>\n",
       "<style scoped>\n",
       "    .dataframe tbody tr th:only-of-type {\n",
       "        vertical-align: middle;\n",
       "    }\n",
       "\n",
       "    .dataframe tbody tr th {\n",
       "        vertical-align: top;\n",
       "    }\n",
       "\n",
       "    .dataframe thead th {\n",
       "        text-align: right;\n",
       "    }\n",
       "</style>\n",
       "<table border=\"1\" class=\"dataframe\">\n",
       "  <thead>\n",
       "    <tr style=\"text-align: right;\">\n",
       "      <th></th>\n",
       "      <th>ram</th>\n",
       "      <th>storage</th>\n",
       "      <th>screen</th>\n",
       "      <th>final_price</th>\n",
       "    </tr>\n",
       "  </thead>\n",
       "  <tbody>\n",
       "    <tr>\n",
       "      <th>count</th>\n",
       "      <td>2160.00</td>\n",
       "      <td>2160.00</td>\n",
       "      <td>2156.00</td>\n",
       "      <td>2160.00</td>\n",
       "    </tr>\n",
       "    <tr>\n",
       "      <th>mean</th>\n",
       "      <td>15.41</td>\n",
       "      <td>596.29</td>\n",
       "      <td>15.17</td>\n",
       "      <td>1312.64</td>\n",
       "    </tr>\n",
       "    <tr>\n",
       "      <th>std</th>\n",
       "      <td>9.87</td>\n",
       "      <td>361.22</td>\n",
       "      <td>1.20</td>\n",
       "      <td>911.48</td>\n",
       "    </tr>\n",
       "    <tr>\n",
       "      <th>min</th>\n",
       "      <td>4.00</td>\n",
       "      <td>0.00</td>\n",
       "      <td>10.10</td>\n",
       "      <td>201.05</td>\n",
       "    </tr>\n",
       "    <tr>\n",
       "      <th>25%</th>\n",
       "      <td>8.00</td>\n",
       "      <td>256.00</td>\n",
       "      <td>14.00</td>\n",
       "      <td>661.08</td>\n",
       "    </tr>\n",
       "    <tr>\n",
       "      <th>50%</th>\n",
       "      <td>16.00</td>\n",
       "      <td>512.00</td>\n",
       "      <td>15.60</td>\n",
       "      <td>1031.95</td>\n",
       "    </tr>\n",
       "    <tr>\n",
       "      <th>75%</th>\n",
       "      <td>16.00</td>\n",
       "      <td>1000.00</td>\n",
       "      <td>15.60</td>\n",
       "      <td>1708.97</td>\n",
       "    </tr>\n",
       "    <tr>\n",
       "      <th>max</th>\n",
       "      <td>128.00</td>\n",
       "      <td>4000.00</td>\n",
       "      <td>18.00</td>\n",
       "      <td>7150.47</td>\n",
       "    </tr>\n",
       "  </tbody>\n",
       "</table>\n",
       "</div>"
      ],
      "text/plain": [
       "           ram  storage   screen  final_price\n",
       "count  2160.00  2160.00  2156.00      2160.00\n",
       "mean     15.41   596.29    15.17      1312.64\n",
       "std       9.87   361.22     1.20       911.48\n",
       "min       4.00     0.00    10.10       201.05\n",
       "25%       8.00   256.00    14.00       661.08\n",
       "50%      16.00   512.00    15.60      1031.95\n",
       "75%      16.00  1000.00    15.60      1708.97\n",
       "max     128.00  4000.00    18.00      7150.47"
      ]
     },
     "execution_count": 10,
     "metadata": {},
     "output_type": "execute_result"
    }
   ],
   "source": [
    "# checking the statistical values in the dff dataset\n",
    "dff.describe().round(2)"
   ]
  },
  {
   "cell_type": "markdown",
   "id": "93f2aa70-d6e7-4094-9461-f6ef7bbec8ac",
   "metadata": {},
   "source": [
    "### fill in with zero"
   ]
  },
  {
   "cell_type": "code",
   "execution_count": 11,
   "id": "4aa93897-bf0a-49e4-97ba-8b4b002f0f2b",
   "metadata": {},
   "outputs": [
    {
     "name": "stderr",
     "output_type": "stream",
     "text": [
      "C:\\Users\\WOYES\\AppData\\Local\\Temp\\ipykernel_10308\\100974646.py:2: SettingWithCopyWarning: \n",
      "A value is trying to be set on a copy of a slice from a DataFrame\n",
      "\n",
      "See the caveats in the documentation: https://pandas.pydata.org/pandas-docs/stable/user_guide/indexing.html#returning-a-view-versus-a-copy\n",
      "  dff.fillna(0, inplace=True)\n"
     ]
    },
    {
     "data": {
      "text/plain": [
       "ram            0\n",
       "storage        0\n",
       "screen         0\n",
       "final_price    0\n",
       "dtype: int64"
      ]
     },
     "execution_count": 11,
     "metadata": {},
     "output_type": "execute_result"
    }
   ],
   "source": [
    "# replacing dff dataset missing values with zero\n",
    "dff.fillna(0, inplace=True)\n",
    "\n",
    "# rechecking for any missing value\n",
    "dff.isnull().sum()"
   ]
  },
  {
   "cell_type": "code",
   "execution_count": null,
   "id": "d9177310-c5cd-4168-94ea-4585c003706f",
   "metadata": {
    "scrolled": true
   },
   "outputs": [],
   "source": []
  },
  {
   "cell_type": "code",
   "execution_count": 12,
   "id": "573d1929-da3b-4e82-93c2-b952d008015e",
   "metadata": {
    "scrolled": true
   },
   "outputs": [
    {
     "name": "stderr",
     "output_type": "stream",
     "text": [
      "C:\\Users\\WOYES\\AppData\\Local\\Temp\\ipykernel_10308\\2654373411.py:2: SettingWithCopyWarning: \n",
      "A value is trying to be set on a copy of a slice from a DataFrame\n",
      "\n",
      "See the caveats in the documentation: https://pandas.pydata.org/pandas-docs/stable/user_guide/indexing.html#returning-a-view-versus-a-copy\n",
      "  dfm.fillna(df['screen'].mean(), inplace=True)\n"
     ]
    },
    {
     "data": {
      "text/plain": [
       "ram            0\n",
       "storage        0\n",
       "screen         0\n",
       "final_price    0\n",
       "dtype: int64"
      ]
     },
     "execution_count": 12,
     "metadata": {},
     "output_type": "execute_result"
    }
   ],
   "source": [
    "# replacing dfm missing values in 'screen' column with the mean value\n",
    "dfm.fillna(df['screen'].mean(), inplace=True)\n",
    "\n",
    "# rechecking for any missing value\n",
    "dfm.isnull().sum()"
   ]
  },
  {
   "cell_type": "code",
   "execution_count": null,
   "id": "91c576a6-1f18-4ece-aad5-213e8249da92",
   "metadata": {},
   "outputs": [],
   "source": []
  },
  {
   "cell_type": "markdown",
   "id": "3fada155-96ad-4722-9b2b-1e4958a91288",
   "metadata": {},
   "source": [
    "### Validation Framework"
   ]
  },
  {
   "cell_type": "code",
   "execution_count": 13,
   "id": "34e7593c-5abb-4ba3-b619-3abef4f4b5d6",
   "metadata": {},
   "outputs": [],
   "source": [
    "# setting up the validtion framework\n",
    "\n",
    "n= len(dff)\n",
    "n_val=int(n*0.2)\n",
    "n_test=int(n*0.2)\n",
    "n_train=n-n_val-n_test\n",
    "\n",
    "\n",
    "#  setting the validation framework for dfm\n",
    "m= len(dfm)\n",
    "m_val = int(m*0.2)\n",
    "m_test = int(m*0.2)\n",
    "m_train = m-m_val-m_test\n",
    "\n"
   ]
  },
  {
   "cell_type": "code",
   "execution_count": 14,
   "id": "627c9984-c5a5-4d06-8499-dd39633bacff",
   "metadata": {},
   "outputs": [
    {
     "data": {
      "text/plain": [
       "(2160, 2160)"
      ]
     },
     "execution_count": 14,
     "metadata": {},
     "output_type": "execute_result"
    }
   ],
   "source": [
    "#  affirming the total number of observations in dff\n",
    "n,n_val+n_test+n_train"
   ]
  },
  {
   "cell_type": "code",
   "execution_count": 15,
   "id": "8dbfd589-518b-424a-a821-1bb3fb3c7a77",
   "metadata": {},
   "outputs": [
    {
     "data": {
      "text/plain": [
       "(2160, 2160)"
      ]
     },
     "execution_count": 15,
     "metadata": {},
     "output_type": "execute_result"
    }
   ],
   "source": [
    "#  affirming the total number of observations in dfm\n",
    "m,m_val+m_test+m_train"
   ]
  },
  {
   "cell_type": "code",
   "execution_count": 16,
   "id": "79e2c25f-ef43-4953-928f-617be8a5f077",
   "metadata": {},
   "outputs": [],
   "source": [
    "# shuffling the samples number for train, val and test for dff\n",
    "idx = np.arange(n)\n",
    "np.random.seed(42)\n",
    "np.random.shuffle(idx)\n",
    "\n",
    "# shuffling the samples number for train, val and test for dfm\n",
    "idm = np.arange(m)\n",
    "np.random.seed(42)\n",
    "np.random.shuffle(idm)"
   ]
  },
  {
   "cell_type": "code",
   "execution_count": 17,
   "id": "6e6ebfcb-7e81-4aed-b095-c7a6fbe5f854",
   "metadata": {},
   "outputs": [],
   "source": [
    "# split the dff dataset into train val and test\n",
    "\n",
    "dff_train = dff.iloc[:n_train]\n",
    "dff_val =dff.iloc[n_train:n_train+n_val]\n",
    "dff_test = dff.iloc[n_train+n_val:]\n",
    "\n",
    "\n",
    "# split the dfm dataset into train val and test\n",
    "\n",
    "dfm_train = dfm.iloc[:m_train]\n",
    "dfm_val =dfm.iloc[m_train:m_train+m_val]\n",
    "dfm_test = dfm.iloc[m_train+m_val:]"
   ]
  },
  {
   "cell_type": "code",
   "execution_count": 18,
   "id": "b8f52e77-0d40-4116-9829-6be3308347da",
   "metadata": {},
   "outputs": [
    {
     "data": {
      "text/html": [
       "<div>\n",
       "<style scoped>\n",
       "    .dataframe tbody tr th:only-of-type {\n",
       "        vertical-align: middle;\n",
       "    }\n",
       "\n",
       "    .dataframe tbody tr th {\n",
       "        vertical-align: top;\n",
       "    }\n",
       "\n",
       "    .dataframe thead th {\n",
       "        text-align: right;\n",
       "    }\n",
       "</style>\n",
       "<table border=\"1\" class=\"dataframe\">\n",
       "  <thead>\n",
       "    <tr style=\"text-align: right;\">\n",
       "      <th></th>\n",
       "      <th>ram</th>\n",
       "      <th>storage</th>\n",
       "      <th>screen</th>\n",
       "      <th>final_price</th>\n",
       "    </tr>\n",
       "  </thead>\n",
       "  <tbody>\n",
       "    <tr>\n",
       "      <th>2079</th>\n",
       "      <td>32</td>\n",
       "      <td>1000</td>\n",
       "      <td>15.6</td>\n",
       "      <td>1123.29</td>\n",
       "    </tr>\n",
       "    <tr>\n",
       "      <th>668</th>\n",
       "      <td>4</td>\n",
       "      <td>64</td>\n",
       "      <td>14.1</td>\n",
       "      <td>201.05</td>\n",
       "    </tr>\n",
       "    <tr>\n",
       "      <th>2073</th>\n",
       "      <td>32</td>\n",
       "      <td>1000</td>\n",
       "      <td>14.0</td>\n",
       "      <td>997.74</td>\n",
       "    </tr>\n",
       "    <tr>\n",
       "      <th>1113</th>\n",
       "      <td>16</td>\n",
       "      <td>512</td>\n",
       "      <td>13.3</td>\n",
       "      <td>1016.00</td>\n",
       "    </tr>\n",
       "    <tr>\n",
       "      <th>788</th>\n",
       "      <td>32</td>\n",
       "      <td>1000</td>\n",
       "      <td>16.0</td>\n",
       "      <td>2739.00</td>\n",
       "    </tr>\n",
       "  </tbody>\n",
       "</table>\n",
       "</div>"
      ],
      "text/plain": [
       "      ram  storage  screen  final_price\n",
       "2079   32     1000    15.6      1123.29\n",
       "668     4       64    14.1       201.05\n",
       "2073   32     1000    14.0       997.74\n",
       "1113   16      512    13.3      1016.00\n",
       "788    32     1000    16.0      2739.00"
      ]
     },
     "execution_count": 18,
     "metadata": {},
     "output_type": "execute_result"
    }
   ],
   "source": [
    "# randomly shuffling the splitted dataset\n",
    "dff_train = dff.iloc[idx[:n_train]]\n",
    "dff_val = dff.iloc[idx[n_train:n_train+n_val]]\n",
    "dff_test = dff.iloc[idx[n_train+n_val:]]\n",
    "dff_train.head()\n",
    "\n",
    "# randomly shuffling the splitted dataset dfm\n",
    "dfm_train = dfm.iloc[idm[:m_train]]\n",
    "dfm_val = dfm.iloc[idm[m_train:m_train+m_val]]\n",
    "dfm_test = dfm.iloc[idm[m_train+m_val:]]\n",
    "dfm_train.head()\n"
   ]
  },
  {
   "cell_type": "code",
   "execution_count": 19,
   "id": "9948d705-ad59-4f3f-83d1-283e6da777ba",
   "metadata": {},
   "outputs": [],
   "source": [
    "# arranging the index in orders for both dff and dfm\n",
    "dff_train = dff_train.reset_index(drop=True)\n",
    "dff_val = dff_val.reset_index(drop=True)\n",
    "dff_test = dff_test.reset_index(drop=True)\n",
    "\n",
    "dfm_train = dfm_train.reset_index(drop=True)\n",
    "dfm_val = dfm_val.reset_index(drop=True)\n",
    "dfm_test = dfm_test.reset_index(drop=True)\n"
   ]
  },
  {
   "cell_type": "code",
   "execution_count": 20,
   "id": "335eb8a8-f8ca-464f-8016-ef9a2b8a7003",
   "metadata": {},
   "outputs": [],
   "source": [
    "#  splitting out and also transforming the predict for each train, val, and test dataset for dff and dfm\n",
    "y_train = np.log1p(dff_train['final_price'].values)\n",
    "y_val = np.log1p(dff_val['final_price'].values)\n",
    "y_test = np.log1p(dff_test['final_price'].values)\n",
    "\n",
    "\n",
    "ym_train = np.log1p(dfm_train['final_price'].values)\n",
    "ym_val = np.log1p(dfm_val['final_price'].values)\n",
    "ym_test = np.log1p(dfm_test['final_price'].values)"
   ]
  },
  {
   "cell_type": "code",
   "execution_count": 21,
   "id": "a8744264-11a9-4fa3-9e39-7f7c8fb81532",
   "metadata": {},
   "outputs": [],
   "source": [
    "# dropping out the prediction columns from the train, val and test dataset\n",
    "del dff_train['final_price']\n",
    "del dff_val['final_price']\n",
    "del dff_test['final_price']\n",
    "\n",
    "# dropping out the prediction columns from the train, val and test dataset\n",
    "del dfm_train['final_price']\n",
    "del dfm_val['final_price']\n",
    "del dfm_test['final_price']"
   ]
  },
  {
   "cell_type": "code",
   "execution_count": 22,
   "id": "5f5cae2b-4ae6-4296-bd27-ad3e4987a147",
   "metadata": {},
   "outputs": [
    {
     "data": {
      "text/plain": [
       "(1296, 1296)"
      ]
     },
     "execution_count": 22,
     "metadata": {},
     "output_type": "execute_result"
    }
   ],
   "source": [
    "# verifying the length of our y_train {n:b it must be equal to the dff_train}\n",
    "len(y_train), len(ym_train)"
   ]
  },
  {
   "cell_type": "markdown",
   "id": "4f13e3ff-c15b-4536-8950-6a19deb6d594",
   "metadata": {},
   "source": [
    "### Linear regression"
   ]
  },
  {
   "cell_type": "code",
   "execution_count": 23,
   "id": "b6ff27f2-b928-4dbc-92db-683872456d04",
   "metadata": {
    "scrolled": true
   },
   "outputs": [],
   "source": [
    "# changing the train dataset into numpy arrays for dff and dfm\n",
    "X_train=np.array(dff_train)\n",
    "Xm_train = np.array(dfm_train)"
   ]
  },
  {
   "cell_type": "code",
   "execution_count": 24,
   "id": "4cb1a551-0428-48e1-9127-58a4c5de189c",
   "metadata": {},
   "outputs": [],
   "source": [
    "# defining the linear regression function\n",
    "def train_linear_regression(X, y):\n",
    "    ones = np.ones(X.shape[0])\n",
    "    X = np.column_stack([ones, X])\n",
    "\n",
    "    XTX = X.T.dot(X)\n",
    "   \n",
    "\n",
    "    XTX_inv = np.linalg.inv(XTX)\n",
    "    w_full = XTX_inv.dot(X.T).dot(y)\n",
    "    \n",
    "    return w_full[0], w_full[1:]\n"
   ]
  },
  {
   "cell_type": "code",
   "execution_count": 25,
   "id": "d87d7cc6-a7e6-4d4c-b814-cc2817e8b62c",
   "metadata": {},
   "outputs": [
    {
     "data": {
      "text/plain": [
       "(6.727163706112423, array([ 0.02630589,  0.00066041, -0.03651909]))"
      ]
     },
     "execution_count": 25,
     "metadata": {},
     "output_type": "execute_result"
    }
   ],
   "source": [
    "train_linear_regression(X_train, y_train)"
   ]
  },
  {
   "cell_type": "code",
   "execution_count": 26,
   "id": "2f3b38f2-115a-4075-9d4a-cc68b7c2fe29",
   "metadata": {},
   "outputs": [
    {
     "data": {
      "text/plain": [
       "(6.8555380428905615, array([ 0.02650249,  0.00066642, -0.04534136]))"
      ]
     },
     "execution_count": 26,
     "metadata": {},
     "output_type": "execute_result"
    }
   ],
   "source": [
    "train_linear_regression(Xm_train, ym_train)"
   ]
  },
  {
   "cell_type": "markdown",
   "id": "987a9b36-e377-400b-96c7-56154d1b46b9",
   "metadata": {},
   "source": [
    "### RMSE"
   ]
  },
  {
   "cell_type": "code",
   "execution_count": 27,
   "id": "bb737ca5-f16a-40cc-9906-ca7705d0ae40",
   "metadata": {},
   "outputs": [],
   "source": [
    "# checking the performance of the predicted target to the train\n",
    "\n",
    "w0,w = train_linear_regression(X_train, y_train)\n",
    "\n",
    "y_pred = w0 + X_train.dot(w)"
   ]
  },
  {
   "cell_type": "code",
   "execution_count": 28,
   "id": "0d98d697-938d-4b65-9996-b22b8fa87c1f",
   "metadata": {
    "scrolled": true
   },
   "outputs": [
    {
     "data": {
      "text/plain": [
       "<Axes: ylabel='Count'>"
      ]
     },
     "execution_count": 28,
     "metadata": {},
     "output_type": "execute_result"
    },
    {
     "data": {
      "image/png": "[encoded data removed]",
      "text/plain": [
       "<Figure size 640x480 with 1 Axes>"
      ]
     },
     "metadata": {},
     "output_type": "display_data"
    }
   ],
   "source": [
    "sns.histplot(y_pred, color='red', alpha=0.5, bins=50)\n",
    "sns.histplot(y_train, color='blue', alpha=0.5, bins=50)"
   ]
  },
  {
   "cell_type": "code",
   "execution_count": 29,
   "id": "49f8f029-bad9-4486-91f1-3cb1363eafcc",
   "metadata": {},
   "outputs": [],
   "source": [
    "w0,w = train_linear_regression(Xm_train, ym_train)\n",
    "\n",
    "ym_pred = w0 + Xm_train.dot(w)"
   ]
  },
  {
   "cell_type": "code",
   "execution_count": 30,
   "id": "58aab5c5-9553-403a-9d86-e781ade852c3",
   "metadata": {},
   "outputs": [
    {
     "data": {
      "text/plain": [
       "<Axes: ylabel='Count'>"
      ]
     },
     "execution_count": 30,
     "metadata": {},
     "output_type": "execute_result"
    },
    {
     "data": {
      "image/png": "[encoded data removed]",
      "text/plain": [
       "<Figure size 640x480 with 1 Axes>"
      ]
     },
     "metadata": {},
     "output_type": "display_data"
    }
   ],
   "source": [
    "sns.histplot(ym_pred, color='red', alpha=0.5, bins=50)\n",
    "sns.histplot(ym_train, color='blue', alpha=0.5, bins=50)"
   ]
  },
  {
   "cell_type": "code",
   "execution_count": 31,
   "id": "3c73aab1-0f09-42bd-bfcc-02a8420643c1",
   "metadata": {},
   "outputs": [],
   "source": [
    "# defining an evaluating function (rmse) in the predicted target\n",
    "def rmse(y, y_pred):\n",
    "    se = (y - y_pred) ** 2\n",
    "    mse = se.mean()\n",
    "    return np.sqrt(mse)\n"
   ]
  },
  {
   "cell_type": "code",
   "execution_count": 32,
   "id": "6038f519-4b22-486a-982a-99803f4dca0a",
   "metadata": {},
   "outputs": [
    {
     "data": {
      "text/plain": [
       "0.45"
      ]
     },
     "execution_count": 32,
     "metadata": {},
     "output_type": "execute_result"
    }
   ],
   "source": [
    "# rmse value for dff (with missing value replace with zero)\n",
    "rmse(y_train, y_pred).round(2)"
   ]
  },
  {
   "cell_type": "code",
   "execution_count": 33,
   "id": "29b40e91-885f-4e17-be23-8c8b8912ef62",
   "metadata": {},
   "outputs": [
    {
     "data": {
      "text/plain": [
       "0.45"
      ]
     },
     "execution_count": 33,
     "metadata": {},
     "output_type": "execute_result"
    }
   ],
   "source": [
    "# rmse value for dfm (with missing value replace with mean)\n",
    "rmse(ym_train, ym_pred).round(2)"
   ]
  },
  {
   "cell_type": "markdown",
   "id": "f1ddb139-e7d8-4555-94d5-6eb100545d67",
   "metadata": {},
   "source": [
    "### Regularization"
   ]
  },
  {
   "cell_type": "code",
   "execution_count": 34,
   "id": "03d0864b-5b48-4838-b70f-7a3e92bfd5a6",
   "metadata": {},
   "outputs": [],
   "source": [
    "base = ['ram','storage','screen']\n",
    "\n",
    "def prepare_X(df):\n",
    "    df_num = df[base]\n",
    "    df_num = df_num.fillna(0)\n",
    "    X = df_num.values\n",
    "    return X"
   ]
  },
  {
   "cell_type": "code",
   "execution_count": 35,
   "id": "9033100b-15e0-41a3-8be5-3347e7319fc2",
   "metadata": {},
   "outputs": [],
   "source": [
    "# defining the regularization function\n",
    "def train_linear_regression_reg(X, y, r=0.001):\n",
    "    ones = np.ones(X.shape[0])\n",
    "    X = np.column_stack([ones, X])\n",
    "\n",
    "    XTX = X.T.dot(X)\n",
    "    XTX = XTX + r * np.eye(XTX.shape[0])\n",
    "\n",
    "    XTX_inv = np.linalg.inv(XTX)\n",
    "    w_full = XTX_inv.dot(X.T).dot(y)\n",
    "    \n",
    "    return w_full[0], w_full[1:]"
   ]
  },
  {
   "cell_type": "code",
   "execution_count": 36,
   "id": "2b8184b0-0b57-4169-874c-ef759684a25a",
   "metadata": {},
   "outputs": [
    {
     "name": "stdout",
     "output_type": "stream",
     "text": [
      "0 6.727163706112423 0.43\n",
      "0.01 6.721004333260325 0.43\n",
      "0.1 6.666075503828222 0.43\n",
      "1 6.162616499461118 0.43\n",
      "5 4.616086176497502 0.46\n",
      "10 3.5167547207936285 0.51\n",
      "100 0.6849263362660545 0.67\n"
     ]
    }
   ],
   "source": [
    "# testing various values of r\n",
    "\n",
    "for r in [0, 0.01, 0.1, 1, 5, 10, 100]:\n",
    "    X_train = prepare_X(dff_train)\n",
    "    w0, w = train_linear_regression_reg(X_train, y_train, r=r)\n",
    "\n",
    "    X_val = prepare_X(dff_val)\n",
    "    y_pred = w0 + X_val.dot(w)\n",
    "    score = rmse(y_val, y_pred)\n",
    "    \n",
    "    print(r, w0, score.round(2))"
   ]
  },
  {
   "cell_type": "code",
   "execution_count": 37,
   "id": "d439023b-f448-4c26-8380-b37b73b83905",
   "metadata": {},
   "outputs": [
    {
     "name": "stdout",
     "output_type": "stream",
     "text": [
      "Seed: 0, Intercept: 547.5696230186702, Validation RMSE: 565.45\n",
      "Seed: 1, Intercept: 594.4197427999145, Validation RMSE: 636.8\n",
      "Seed: 2, Intercept: 649.4685454769111, Validation RMSE: 588.96\n",
      "Seed: 3, Intercept: 571.9459040112181, Validation RMSE: 597.81\n",
      "Seed: 4, Intercept: 629.3882030645141, Validation RMSE: 571.96\n",
      "Seed: 5, Intercept: 580.7647373330029, Validation RMSE: 573.24\n",
      "Seed: 6, Intercept: 783.7683689905925, Validation RMSE: 647.34\n",
      "Seed: 7, Intercept: 376.4358600624247, Validation RMSE: 550.44\n",
      "Seed: 8, Intercept: 572.8852361198669, Validation RMSE: 587.33\n",
      "Seed: 9, Intercept: 663.3792792607805, Validation RMSE: 576.1\n"
     ]
    }
   ],
   "source": [
    "# verifying the effect of random seed on the prediction\n",
    "\n",
    "rmse_scores = []\n",
    "for i in [0, 1, 2, 3, 4, 5, 6, 7, 8, 9]:\n",
    "    idx = np.arange(n)\n",
    "    np.random.seed(i)\n",
    "    np.random.shuffle(idx)\n",
    "\n",
    "    # Split the data for each seed\n",
    "    n_train = int(0.6 * n)\n",
    "    n_val = int(0.2 * n)\n",
    "    \n",
    "    train_idx = idx[:n_train]\n",
    "    val_idx = idx[n_train:n_train + n_val]\n",
    "    test_idx = idx[n_train + n_val:]\n",
    "    \n",
    "    dff_train = dff.iloc[train_idx]\n",
    "    dff_val = dff.iloc[val_idx]\n",
    "    dff_test = dff.iloc[test_idx]\n",
    "    \n",
    "    # Fill missing values with 0\n",
    "    dff_train = dff_train.fillna(0)\n",
    "    dff_val = dff_val.fillna(0)\n",
    "    dff_test = dff_test.fillna(0)\n",
    "    \n",
    "    \n",
    "    X_train = prepare_X(dff_train)\n",
    "    y_train = dff_train['final_price']\n",
    "    w0,w = train_linear_regression(X_train, y_train)\n",
    "\n",
    "    X_val = prepare_X(dff_val)\n",
    "    y_val= dff_val['final_price']\n",
    "    y_pred = w0 + X_val.dot(w)\n",
    "    score = rmse(y_val, y_pred)\n",
    "\n",
    "    rmse_scores.append(score)\n",
    "    \n",
    "    print(f\"Seed: {i}, Intercept: {w0}, Validation RMSE: {score.round(2)}\")"
   ]
  },
  {
   "cell_type": "code",
   "execution_count": 38,
   "id": "7847e2eb-2d0d-4aca-98b8-df6be1197830",
   "metadata": {},
   "outputs": [
    {
     "name": "stdout",
     "output_type": "stream",
     "text": [
      "Standard deviation of RMSE scores: 29.176\n"
     ]
    }
   ],
   "source": [
    "# Compute and print the standard deviation\n",
    "std_rmse = np.std(rmse_scores)\n",
    "print(f\"Standard deviation of RMSE scores: {round(std_rmse, 3)}\")"
   ]
  },
  {
   "cell_type": "code",
   "execution_count": 39,
   "id": "9424298a-ae2a-448d-bb3e-e4c6b86c1161",
   "metadata": {},
   "outputs": [
    {
     "name": "stdout",
     "output_type": "stream",
     "text": [
      " Validation RMSE: 608.61\n"
     ]
    }
   ],
   "source": [
    "# Prepare indices and shuffle using seed 9\n",
    "idx = np.arange(n)\n",
    "np.random.seed(9)\n",
    "np.random.shuffle(idx)\n",
    "\n",
    "# Split the data for each seed\n",
    "n_train = int(0.6 * n)\n",
    "n_val = int(0.2 * n)\n",
    "    \n",
    "train_idx = idx[:n_train]\n",
    "val_idx = idx[n_train:n_train + n_val]\n",
    "test_idx = idx[n_train + n_val:]\n",
    "    \n",
    "dff_train = dff.iloc[train_idx]\n",
    "dff_val = dff.iloc[val_idx]\n",
    "dff_test = dff.iloc[test_idx]\n",
    "    \n",
    "# Fill missing values with 0\n",
    "dff_train = dff_train.fillna(0)\n",
    "dff_val = dff_val.fillna(0)\n",
    "dff_test = dff_test.fillna(0)\n",
    "\n",
    "# Combine train and validation datasets\n",
    "y_train = dff_train['final_price']\n",
    "y_val= dff_val['final_price']\n",
    "dff_train_full = pd.concat([dff_train, dff_val])\n",
    "y_full_train = np.concatenate([y_train, y_val])\n",
    "\n",
    "# Prepare feature matrix and train model with r=0.001 regularization\n",
    "X_full_train = prepare_X(dff_train_full)\n",
    "w0,w = train_linear_regression_reg(X_full_train, y_full_train, r=0.001)\n",
    "\n",
    "# Prepare test data and evaluate RMSE\n",
    "X_test = prepare_X(dff_test)\n",
    "y_test= dff_test['final_price']\n",
    "y_pred = w0 + X_test.dot(w)\n",
    "score = rmse(y_test, y_pred)\n",
    "print(f\" Validation RMSE: {score.round(2)}\")"
   ]
  },
  {
   "cell_type": "code",
   "execution_count": null,
   "id": "8df3b141-e3e7-4855-af25-1b33bd009840",
   "metadata": {},
   "outputs": [],
   "source": []
  },
  {
   "cell_type": "code",
   "execution_count": null,
   "id": "dea513e0-c732-4635-8048-710517d2aadf",
   "metadata": {},
   "outputs": [],
   "source": []
  },
  {
   "cell_type": "code",
   "execution_count": null,
   "id": "31fb58c4-e6a1-48d6-9790-bea961d1ac96",
   "metadata": {},
   "outputs": [],
   "source": []
  },
  {
   "cell_type": "code",
   "execution_count": null,
   "id": "df2fda7d-92e4-4485-9993-3edd54009186",
   "metadata": {},
   "outputs": [],
   "source": []
  }
 ],
 "metadata": {
  "kernelspec": {
   "display_name": "Python 3 (ipykernel)",
   "language": "python",
   "name": "python3"
  },
  "language_info": {
   "codemirror_mode": {
    "name": "ipython",
    "version": 3
   },
   "file_extension": ".py",
   "mimetype": "text/x-python",
   "name": "python",
   "nbconvert_exporter": "python",
   "pygments_lexer": "ipython3",
   "version": "3.8.18"
  }
 },
 "nbformat": 4,
 "nbformat_minor": 5
}
